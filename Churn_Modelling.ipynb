{
 "cells": [
  {
   "cell_type": "code",
   "execution_count": 1,
   "metadata": {},
   "outputs": [],
   "source": [
    "# Importing the libraries\n",
    "import numpy as np\n",
    "import matplotlib.pyplot as plt\n",
    "import pandas as pd\n",
    "\n",
    "# Importing the dataset\n",
    "dataset = pd.read_csv('Churn_Modelling.csv')\n",
    "X = dataset.iloc[:, 3:13].values\n",
    "y = dataset.iloc[:, 13].values\n",
    "\n"
   ]
  },
  {
   "cell_type": "code",
   "execution_count": 2,
   "metadata": {},
   "outputs": [],
   "source": [
    "from sklearn.preprocessing import LabelEncoder, OneHotEncoder\n",
    "labelencoder_X_1 = LabelEncoder()\n",
    "X[:, 1] = labelencoder_X_1.fit_transform(X[:, 1])"
   ]
  },
  {
   "cell_type": "code",
   "execution_count": 3,
   "metadata": {},
   "outputs": [],
   "source": [
    "\n",
    "labelencoder_X_2 = LabelEncoder()\n",
    "X[:, 2] = labelencoder_X_2.fit_transform(X[:, 2])"
   ]
  },
  {
   "cell_type": "code",
   "execution_count": 4,
   "metadata": {},
   "outputs": [],
   "source": [
    "onehotencoder = OneHotEncoder(categorical_features = [1])\n",
    "X = onehotencoder.fit_transform(X).toarray()"
   ]
  },
  {
   "cell_type": "code",
   "execution_count": 5,
   "metadata": {},
   "outputs": [],
   "source": [
    "X = X[:,1:]"
   ]
  },
  {
   "cell_type": "code",
   "execution_count": 6,
   "metadata": {},
   "outputs": [
    {
     "data": {
      "text/plain": [
       "array([[0.0000000e+00, 0.0000000e+00, 6.1900000e+02, ..., 1.0000000e+00,\n",
       "        1.0000000e+00, 1.0134888e+05],\n",
       "       [0.0000000e+00, 1.0000000e+00, 6.0800000e+02, ..., 0.0000000e+00,\n",
       "        1.0000000e+00, 1.1254258e+05],\n",
       "       [0.0000000e+00, 0.0000000e+00, 5.0200000e+02, ..., 1.0000000e+00,\n",
       "        0.0000000e+00, 1.1393157e+05],\n",
       "       ...,\n",
       "       [0.0000000e+00, 0.0000000e+00, 7.0900000e+02, ..., 0.0000000e+00,\n",
       "        1.0000000e+00, 4.2085580e+04],\n",
       "       [1.0000000e+00, 0.0000000e+00, 7.7200000e+02, ..., 1.0000000e+00,\n",
       "        0.0000000e+00, 9.2888520e+04],\n",
       "       [0.0000000e+00, 0.0000000e+00, 7.9200000e+02, ..., 1.0000000e+00,\n",
       "        0.0000000e+00, 3.8190780e+04]])"
      ]
     },
     "execution_count": 6,
     "metadata": {},
     "output_type": "execute_result"
    }
   ],
   "source": [
    "X"
   ]
  },
  {
   "cell_type": "code",
   "execution_count": 7,
   "metadata": {},
   "outputs": [],
   "source": [
    "from sklearn.model_selection import train_test_split\n",
    "X_train, X_test, y_train, y_test = train_test_split(X, y, test_size = 0.2, random_state = 123)\n"
   ]
  },
  {
   "cell_type": "code",
   "execution_count": 8,
   "metadata": {},
   "outputs": [],
   "source": [
    "# Feature Scaling\n",
    "from sklearn.preprocessing import StandardScaler\n",
    "sc = StandardScaler()\n",
    "X_train = sc.fit_transform(X_train)\n",
    "X_test = sc.transform(X_test)"
   ]
  },
  {
   "cell_type": "code",
   "execution_count": 9,
   "metadata": {},
   "outputs": [
    {
     "name": "stderr",
     "output_type": "stream",
     "text": [
      "Using TensorFlow backend.\n"
     ]
    }
   ],
   "source": [
    "import keras\n"
   ]
  },
  {
   "cell_type": "code",
   "execution_count": 10,
   "metadata": {},
   "outputs": [],
   "source": [
    "from keras.models import Sequential\n",
    "from keras.layers import Dense"
   ]
  },
  {
   "cell_type": "code",
   "execution_count": 11,
   "metadata": {},
   "outputs": [],
   "source": [
    "classifier = Sequential()"
   ]
  },
  {
   "cell_type": "code",
   "execution_count": 12,
   "metadata": {},
   "outputs": [],
   "source": [
    "classifier.add(Dense(activation=\"relu\", input_dim=11, units=6, kernel_initializer=\"uniform\"))"
   ]
  },
  {
   "cell_type": "code",
   "execution_count": 13,
   "metadata": {},
   "outputs": [],
   "source": [
    "classifier.add(Dense(activation=\"relu\", units=6, kernel_initializer=\"uniform\"))"
   ]
  },
  {
   "cell_type": "code",
   "execution_count": 14,
   "metadata": {},
   "outputs": [],
   "source": [
    "classifier.add(Dense(activation=\"relu\", units=6, kernel_initializer=\"uniform\"))"
   ]
  },
  {
   "cell_type": "code",
   "execution_count": 15,
   "metadata": {},
   "outputs": [],
   "source": [
    "classifier.add(Dense(activation=\"relu\", units=6, kernel_initializer=\"uniform\"))"
   ]
  },
  {
   "cell_type": "code",
   "execution_count": 16,
   "metadata": {},
   "outputs": [],
   "source": [
    "classifier.add(Dense(activation=\"relu\", units=6, kernel_initializer=\"uniform\"))"
   ]
  },
  {
   "cell_type": "code",
   "execution_count": 17,
   "metadata": {},
   "outputs": [],
   "source": [
    "## use softmax activation if there are more than two classes\n"
   ]
  },
  {
   "cell_type": "code",
   "execution_count": 18,
   "metadata": {},
   "outputs": [],
   "source": [
    "classifier.add(Dense(activation=\"sigmoid\", units=1, kernel_initializer=\"uniform\"))"
   ]
  },
  {
   "cell_type": "code",
   "execution_count": 19,
   "metadata": {},
   "outputs": [],
   "source": [
    "## category cross entropy loss for more than two classes"
   ]
  },
  {
   "cell_type": "code",
   "execution_count": 20,
   "metadata": {},
   "outputs": [],
   "source": [
    "classifier.compile(optimizer='adam',loss='binary_crossentropy',metrics=['accuracy'])"
   ]
  },
  {
   "cell_type": "code",
   "execution_count": 21,
   "metadata": {},
   "outputs": [
    {
     "name": "stdout",
     "output_type": "stream",
     "text": [
      "Epoch 1/100\n",
      "8000/8000 [==============================] - 1s 82us/step - loss: 0.5321 - acc: 0.7971\n",
      "Epoch 2/100\n",
      "8000/8000 [==============================] - 0s 40us/step - loss: 0.4376 - acc: 0.7971\n",
      "Epoch 3/100\n",
      "8000/8000 [==============================] - 0s 39us/step - loss: 0.4273 - acc: 0.7971\n",
      "Epoch 4/100\n",
      "8000/8000 [==============================] - 0s 40us/step - loss: 0.4218 - acc: 0.8029\n",
      "Epoch 5/100\n",
      "8000/8000 [==============================] - 0s 40us/step - loss: 0.4190 - acc: 0.8248\n",
      "Epoch 6/100\n",
      "8000/8000 [==============================] - 0s 42us/step - loss: 0.4167 - acc: 0.8268\n",
      "Epoch 7/100\n",
      "8000/8000 [==============================] - 0s 41us/step - loss: 0.4153 - acc: 0.8290\n",
      "Epoch 8/100\n",
      "8000/8000 [==============================] - 0s 41us/step - loss: 0.4141 - acc: 0.8315\n",
      "Epoch 9/100\n",
      "8000/8000 [==============================] - 0s 40us/step - loss: 0.4125 - acc: 0.8321\n",
      "Epoch 10/100\n",
      "8000/8000 [==============================] - 0s 41us/step - loss: 0.4113 - acc: 0.8326\n",
      "Epoch 11/100\n",
      "8000/8000 [==============================] - 0s 40us/step - loss: 0.4103 - acc: 0.8351\n",
      "Epoch 12/100\n",
      "8000/8000 [==============================] - 0s 41us/step - loss: 0.4097 - acc: 0.8346\n",
      "Epoch 13/100\n",
      "8000/8000 [==============================] - 0s 39us/step - loss: 0.4084 - acc: 0.8355\n",
      "Epoch 14/100\n",
      "8000/8000 [==============================] - 0s 40us/step - loss: 0.4072 - acc: 0.8349\n",
      "Epoch 15/100\n",
      "8000/8000 [==============================] - 0s 40us/step - loss: 0.4069 - acc: 0.8364\n",
      "Epoch 16/100\n",
      "8000/8000 [==============================] - 0s 41us/step - loss: 0.4063 - acc: 0.8369\n",
      "Epoch 17/100\n",
      "8000/8000 [==============================] - 0s 41us/step - loss: 0.4062 - acc: 0.8386\n",
      "Epoch 18/100\n",
      "8000/8000 [==============================] - 0s 40us/step - loss: 0.4052 - acc: 0.8363\n",
      "Epoch 19/100\n",
      "8000/8000 [==============================] - 0s 40us/step - loss: 0.4051 - acc: 0.8378\n",
      "Epoch 20/100\n",
      "8000/8000 [==============================] - 0s 40us/step - loss: 0.4038 - acc: 0.8349\n",
      "Epoch 21/100\n",
      "8000/8000 [==============================] - 0s 40us/step - loss: 0.4043 - acc: 0.8370\n",
      "Epoch 22/100\n",
      "8000/8000 [==============================] - 0s 40us/step - loss: 0.4037 - acc: 0.8374\n",
      "Epoch 23/100\n",
      "8000/8000 [==============================] - 0s 39us/step - loss: 0.4035 - acc: 0.8377\n",
      "Epoch 24/100\n",
      "8000/8000 [==============================] - 0s 40us/step - loss: 0.4034 - acc: 0.8368\n",
      "Epoch 25/100\n",
      "8000/8000 [==============================] - 0s 40us/step - loss: 0.4028 - acc: 0.8374\n",
      "Epoch 26/100\n",
      "8000/8000 [==============================] - 0s 40us/step - loss: 0.4029 - acc: 0.8386\n",
      "Epoch 27/100\n",
      "8000/8000 [==============================] - 0s 40us/step - loss: 0.4029 - acc: 0.8367\n",
      "Epoch 28/100\n",
      "8000/8000 [==============================] - 0s 40us/step - loss: 0.4025 - acc: 0.8373\n",
      "Epoch 29/100\n",
      "8000/8000 [==============================] - 0s 42us/step - loss: 0.4024 - acc: 0.8386\n",
      "Epoch 30/100\n",
      "8000/8000 [==============================] - 0s 42us/step - loss: 0.4019 - acc: 0.8381\n",
      "Epoch 31/100\n",
      "8000/8000 [==============================] - 0s 42us/step - loss: 0.4026 - acc: 0.8370\n",
      "Epoch 32/100\n",
      "8000/8000 [==============================] - 0s 40us/step - loss: 0.4017 - acc: 0.8381\n",
      "Epoch 33/100\n",
      "8000/8000 [==============================] - 0s 40us/step - loss: 0.4017 - acc: 0.8389\n",
      "Epoch 34/100\n",
      "8000/8000 [==============================] - 0s 39us/step - loss: 0.4010 - acc: 0.8384\n",
      "Epoch 35/100\n",
      "8000/8000 [==============================] - 0s 40us/step - loss: 0.4015 - acc: 0.8381\n",
      "Epoch 36/100\n",
      "8000/8000 [==============================] - 0s 39us/step - loss: 0.4011 - acc: 0.8399\n",
      "Epoch 37/100\n",
      "8000/8000 [==============================] - 0s 40us/step - loss: 0.4007 - acc: 0.8383\n",
      "Epoch 38/100\n",
      "8000/8000 [==============================] - 0s 39us/step - loss: 0.4001 - acc: 0.8386\n",
      "Epoch 39/100\n",
      "8000/8000 [==============================] - 0s 40us/step - loss: 0.4010 - acc: 0.8405\n",
      "Epoch 40/100\n",
      "8000/8000 [==============================] - 0s 40us/step - loss: 0.4008 - acc: 0.8386\n",
      "Epoch 41/100\n",
      "8000/8000 [==============================] - 0s 41us/step - loss: 0.4000 - acc: 0.8380\n",
      "Epoch 42/100\n",
      "8000/8000 [==============================] - 0s 40us/step - loss: 0.4005 - acc: 0.8394\n",
      "Epoch 43/100\n",
      "8000/8000 [==============================] - 0s 42us/step - loss: 0.4004 - acc: 0.8385\n",
      "Epoch 44/100\n",
      "8000/8000 [==============================] - 0s 40us/step - loss: 0.4007 - acc: 0.8393\n",
      "Epoch 45/100\n",
      "8000/8000 [==============================] - 0s 40us/step - loss: 0.4009 - acc: 0.8400\n",
      "Epoch 46/100\n",
      "8000/8000 [==============================] - 0s 39us/step - loss: 0.4003 - acc: 0.8385\n",
      "Epoch 47/100\n",
      "8000/8000 [==============================] - 0s 39us/step - loss: 0.4001 - acc: 0.8404\n",
      "Epoch 48/100\n",
      "8000/8000 [==============================] - 0s 40us/step - loss: 0.4001 - acc: 0.8392\n",
      "Epoch 49/100\n",
      "8000/8000 [==============================] - 0s 40us/step - loss: 0.3999 - acc: 0.8388\n",
      "Epoch 50/100\n",
      "8000/8000 [==============================] - 0s 40us/step - loss: 0.4004 - acc: 0.8398\n",
      "Epoch 51/100\n",
      "8000/8000 [==============================] - 0s 40us/step - loss: 0.4002 - acc: 0.8394\n",
      "Epoch 52/100\n",
      "8000/8000 [==============================] - 0s 39us/step - loss: 0.3997 - acc: 0.8384\n",
      "Epoch 53/100\n",
      "8000/8000 [==============================] - 0s 39us/step - loss: 0.4000 - acc: 0.8404\n",
      "Epoch 54/100\n",
      "8000/8000 [==============================] - 0s 39us/step - loss: 0.4002 - acc: 0.8380\n",
      "Epoch 55/100\n",
      "8000/8000 [==============================] - 0s 39us/step - loss: 0.3998 - acc: 0.8394\n",
      "Epoch 56/100\n",
      "8000/8000 [==============================] - 0s 39us/step - loss: 0.3996 - acc: 0.8384\n",
      "Epoch 57/100\n",
      "8000/8000 [==============================] - 0s 41us/step - loss: 0.3994 - acc: 0.8400\n",
      "Epoch 58/100\n",
      "8000/8000 [==============================] - 0s 40us/step - loss: 0.3991 - acc: 0.8395\n",
      "Epoch 59/100\n",
      "8000/8000 [==============================] - 0s 40us/step - loss: 0.3995 - acc: 0.8401\n",
      "Epoch 60/100\n",
      "8000/8000 [==============================] - 0s 41us/step - loss: 0.3991 - acc: 0.8398\n",
      "Epoch 61/100\n",
      "8000/8000 [==============================] - 0s 41us/step - loss: 0.3997 - acc: 0.8396\n",
      "Epoch 62/100\n",
      "8000/8000 [==============================] - 0s 39us/step - loss: 0.3992 - acc: 0.8395\n",
      "Epoch 63/100\n",
      "8000/8000 [==============================] - 0s 39us/step - loss: 0.3989 - acc: 0.8393\n",
      "Epoch 64/100\n",
      "8000/8000 [==============================] - 0s 39us/step - loss: 0.3984 - acc: 0.8398\n",
      "Epoch 65/100\n",
      "8000/8000 [==============================] - 0s 39us/step - loss: 0.3985 - acc: 0.8404\n",
      "Epoch 66/100\n",
      "8000/8000 [==============================] - 0s 40us/step - loss: 0.3984 - acc: 0.8396\n",
      "Epoch 67/100\n",
      "8000/8000 [==============================] - 0s 39us/step - loss: 0.3982 - acc: 0.8398\n",
      "Epoch 68/100\n",
      "8000/8000 [==============================] - 0s 39us/step - loss: 0.3981 - acc: 0.8384\n",
      "Epoch 69/100\n",
      "8000/8000 [==============================] - 0s 39us/step - loss: 0.3977 - acc: 0.8398\n",
      "Epoch 70/100\n",
      "8000/8000 [==============================] - 0s 40us/step - loss: 0.3975 - acc: 0.8401\n",
      "Epoch 71/100\n",
      "8000/8000 [==============================] - 0s 40us/step - loss: 0.3973 - acc: 0.8405\n",
      "Epoch 72/100\n",
      "8000/8000 [==============================] - 0s 40us/step - loss: 0.3968 - acc: 0.8394\n",
      "Epoch 73/100\n",
      "8000/8000 [==============================] - 0s 39us/step - loss: 0.3973 - acc: 0.8396\n",
      "Epoch 74/100\n",
      "8000/8000 [==============================] - 0s 40us/step - loss: 0.3964 - acc: 0.8410\n",
      "Epoch 75/100\n",
      "8000/8000 [==============================] - 0s 40us/step - loss: 0.3969 - acc: 0.8409\n",
      "Epoch 76/100\n",
      "8000/8000 [==============================] - 0s 40us/step - loss: 0.3963 - acc: 0.8405\n",
      "Epoch 77/100\n",
      "8000/8000 [==============================] - 0s 39us/step - loss: 0.3960 - acc: 0.8398\n",
      "Epoch 78/100\n",
      "8000/8000 [==============================] - 0s 40us/step - loss: 0.3961 - acc: 0.8402\n",
      "Epoch 79/100\n",
      "8000/8000 [==============================] - 0s 40us/step - loss: 0.3961 - acc: 0.8405\n",
      "Epoch 80/100\n",
      "8000/8000 [==============================] - 0s 39us/step - loss: 0.3952 - acc: 0.8414\n",
      "Epoch 81/100\n",
      "8000/8000 [==============================] - 0s 39us/step - loss: 0.3957 - acc: 0.8410\n",
      "Epoch 82/100\n",
      "8000/8000 [==============================] - 0s 40us/step - loss: 0.3952 - acc: 0.8416\n",
      "Epoch 83/100\n"
     ]
    },
    {
     "name": "stdout",
     "output_type": "stream",
     "text": [
      "8000/8000 [==============================] - 0s 41us/step - loss: 0.3944 - acc: 0.8405\n",
      "Epoch 84/100\n",
      "8000/8000 [==============================] - 0s 40us/step - loss: 0.3953 - acc: 0.8419\n",
      "Epoch 85/100\n",
      "8000/8000 [==============================] - 0s 39us/step - loss: 0.3944 - acc: 0.8406\n",
      "Epoch 86/100\n",
      "8000/8000 [==============================] - 0s 39us/step - loss: 0.3953 - acc: 0.8414\n",
      "Epoch 87/100\n",
      "8000/8000 [==============================] - 0s 39us/step - loss: 0.3946 - acc: 0.8426\n",
      "Epoch 88/100\n",
      "8000/8000 [==============================] - 0s 39us/step - loss: 0.3946 - acc: 0.8407\n",
      "Epoch 89/100\n",
      "8000/8000 [==============================] - 0s 40us/step - loss: 0.3950 - acc: 0.8416\n",
      "Epoch 90/100\n",
      "8000/8000 [==============================] - 0s 39us/step - loss: 0.3951 - acc: 0.8404\n",
      "Epoch 91/100\n",
      "8000/8000 [==============================] - 0s 39us/step - loss: 0.3941 - acc: 0.8418\n",
      "Epoch 92/100\n",
      "8000/8000 [==============================] - 0s 40us/step - loss: 0.3944 - acc: 0.8399\n",
      "Epoch 93/100\n",
      "8000/8000 [==============================] - 0s 40us/step - loss: 0.3946 - acc: 0.8404\n",
      "Epoch 94/100\n",
      "8000/8000 [==============================] - 0s 40us/step - loss: 0.3939 - acc: 0.8399\n",
      "Epoch 95/100\n",
      "8000/8000 [==============================] - 0s 40us/step - loss: 0.3939 - acc: 0.8415\n",
      "Epoch 96/100\n",
      "8000/8000 [==============================] - 0s 40us/step - loss: 0.3940 - acc: 0.8419\n",
      "Epoch 97/100\n",
      "8000/8000 [==============================] - 0s 40us/step - loss: 0.3934 - acc: 0.8401\n",
      "Epoch 98/100\n",
      "8000/8000 [==============================] - 0s 40us/step - loss: 0.3940 - acc: 0.8410\n",
      "Epoch 99/100\n",
      "8000/8000 [==============================] - 0s 39us/step - loss: 0.3940 - acc: 0.8402\n",
      "Epoch 100/100\n",
      "8000/8000 [==============================] - 0s 39us/step - loss: 0.3934 - acc: 0.8416\n"
     ]
    },
    {
     "data": {
      "text/plain": [
       "<keras.callbacks.History at 0x287a1375e80>"
      ]
     },
     "execution_count": 21,
     "metadata": {},
     "output_type": "execute_result"
    }
   ],
   "source": [
    "classifier.fit(x=X_train,y=y_train,batch_size=20,epochs=100)"
   ]
  },
  {
   "cell_type": "code",
   "execution_count": 22,
   "metadata": {},
   "outputs": [],
   "source": [
    "from keras.wrappers.scikit_learn import KerasClassifier"
   ]
  },
  {
   "cell_type": "code",
   "execution_count": 23,
   "metadata": {},
   "outputs": [],
   "source": [
    "from sklearn.model_selection import cross_val_score"
   ]
  },
  {
   "cell_type": "code",
   "execution_count": 24,
   "metadata": {},
   "outputs": [],
   "source": [
    "def build_classifier():\n",
    "    classifier = Sequential()\n",
    "    classifier.add(Dense(activation=\"relu\", input_dim=11, units=6, kernel_initializer=\"uniform\"))\n",
    "    classifier.add(Dense(activation=\"relu\", units=6, kernel_initializer=\"uniform\"))\n",
    "    classifier.add(Dense(activation=\"relu\", units=6, kernel_initializer=\"uniform\"))\n",
    "    classifier.add(Dense(activation=\"relu\", units=6, kernel_initializer=\"uniform\"))\n",
    "    classifier.add(Dense(activation=\"relu\", units=6, kernel_initializer=\"uniform\"))\n",
    "    classifier.add(Dense(activation=\"sigmoid\", units=1, kernel_initializer=\"uniform\"))\n",
    "    classifier.compile(optimizer='adam',loss='binary_crossentropy',metrics=['accuracy'])\n",
    "    \n",
    "    return classifier"
   ]
  },
  {
   "cell_type": "code",
   "execution_count": 25,
   "metadata": {},
   "outputs": [],
   "source": [
    "classifier = KerasClassifier(build_fn = build_classifier,batch_size=10,nb_epoch = 100)"
   ]
  },
  {
   "cell_type": "code",
   "execution_count": null,
   "metadata": {},
   "outputs": [],
   "source": [
    "accuracies = cross_val_score(estimator = classifier,X = X_train,y = y_train,cv=10,n_jobs = -1)"
   ]
  },
  {
   "cell_type": "code",
   "execution_count": null,
   "metadata": {},
   "outputs": [],
   "source": []
  }
 ],
 "metadata": {
  "kernelspec": {
   "display_name": "Python 3",
   "language": "python",
   "name": "python3"
  },
  "language_info": {
   "codemirror_mode": {
    "name": "ipython",
    "version": 3
   },
   "file_extension": ".py",
   "mimetype": "text/x-python",
   "name": "python",
   "nbconvert_exporter": "python",
   "pygments_lexer": "ipython3",
   "version": "3.6.6"
  }
 },
 "nbformat": 4,
 "nbformat_minor": 2
}
