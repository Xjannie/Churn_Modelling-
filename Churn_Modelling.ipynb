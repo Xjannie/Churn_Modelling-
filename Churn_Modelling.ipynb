{
 "cells": [
  {
   "cell_type": "code",
   "execution_count": 1,
   "metadata": {},
   "outputs": [],
   "source": [
    "# Importing the libraries\n",
    "import numpy as np\n",
    "import matplotlib.pyplot as plt\n",
    "import pandas as pd\n",
    "\n",
    "# Importing the dataset\n",
    "dataset = pd.read_csv('Churn_Modelling.csv')\n",
    "\n",
    "\n"
   ]
  },
  {
   "cell_type": "code",
   "execution_count": 2,
   "metadata": {},
   "outputs": [
    {
     "data": {
      "text/html": [
       "<div>\n",
       "<style scoped>\n",
       "    .dataframe tbody tr th:only-of-type {\n",
       "        vertical-align: middle;\n",
       "    }\n",
       "\n",
       "    .dataframe tbody tr th {\n",
       "        vertical-align: top;\n",
       "    }\n",
       "\n",
       "    .dataframe thead th {\n",
       "        text-align: right;\n",
       "    }\n",
       "</style>\n",
       "<table border=\"1\" class=\"dataframe\">\n",
       "  <thead>\n",
       "    <tr style=\"text-align: right;\">\n",
       "      <th></th>\n",
       "      <th>RowNumber</th>\n",
       "      <th>CustomerId</th>\n",
       "      <th>Surname</th>\n",
       "      <th>CreditScore</th>\n",
       "      <th>Geography</th>\n",
       "      <th>Gender</th>\n",
       "      <th>Age</th>\n",
       "      <th>Tenure</th>\n",
       "      <th>Balance</th>\n",
       "      <th>NumOfProducts</th>\n",
       "      <th>HasCrCard</th>\n",
       "      <th>IsActiveMember</th>\n",
       "      <th>EstimatedSalary</th>\n",
       "      <th>Exited</th>\n",
       "    </tr>\n",
       "  </thead>\n",
       "  <tbody>\n",
       "    <tr>\n",
       "      <th>0</th>\n",
       "      <td>1</td>\n",
       "      <td>15634602</td>\n",
       "      <td>Hargrave</td>\n",
       "      <td>619</td>\n",
       "      <td>France</td>\n",
       "      <td>Female</td>\n",
       "      <td>42</td>\n",
       "      <td>2</td>\n",
       "      <td>0.00</td>\n",
       "      <td>1</td>\n",
       "      <td>1</td>\n",
       "      <td>1</td>\n",
       "      <td>101348.88</td>\n",
       "      <td>1</td>\n",
       "    </tr>\n",
       "    <tr>\n",
       "      <th>1</th>\n",
       "      <td>2</td>\n",
       "      <td>15647311</td>\n",
       "      <td>Hill</td>\n",
       "      <td>608</td>\n",
       "      <td>Spain</td>\n",
       "      <td>Female</td>\n",
       "      <td>41</td>\n",
       "      <td>1</td>\n",
       "      <td>83807.86</td>\n",
       "      <td>1</td>\n",
       "      <td>0</td>\n",
       "      <td>1</td>\n",
       "      <td>112542.58</td>\n",
       "      <td>0</td>\n",
       "    </tr>\n",
       "    <tr>\n",
       "      <th>2</th>\n",
       "      <td>3</td>\n",
       "      <td>15619304</td>\n",
       "      <td>Onio</td>\n",
       "      <td>502</td>\n",
       "      <td>France</td>\n",
       "      <td>Female</td>\n",
       "      <td>42</td>\n",
       "      <td>8</td>\n",
       "      <td>159660.80</td>\n",
       "      <td>3</td>\n",
       "      <td>1</td>\n",
       "      <td>0</td>\n",
       "      <td>113931.57</td>\n",
       "      <td>1</td>\n",
       "    </tr>\n",
       "    <tr>\n",
       "      <th>3</th>\n",
       "      <td>4</td>\n",
       "      <td>15701354</td>\n",
       "      <td>Boni</td>\n",
       "      <td>699</td>\n",
       "      <td>France</td>\n",
       "      <td>Female</td>\n",
       "      <td>39</td>\n",
       "      <td>1</td>\n",
       "      <td>0.00</td>\n",
       "      <td>2</td>\n",
       "      <td>0</td>\n",
       "      <td>0</td>\n",
       "      <td>93826.63</td>\n",
       "      <td>0</td>\n",
       "    </tr>\n",
       "    <tr>\n",
       "      <th>4</th>\n",
       "      <td>5</td>\n",
       "      <td>15737888</td>\n",
       "      <td>Mitchell</td>\n",
       "      <td>850</td>\n",
       "      <td>Spain</td>\n",
       "      <td>Female</td>\n",
       "      <td>43</td>\n",
       "      <td>2</td>\n",
       "      <td>125510.82</td>\n",
       "      <td>1</td>\n",
       "      <td>1</td>\n",
       "      <td>1</td>\n",
       "      <td>79084.10</td>\n",
       "      <td>0</td>\n",
       "    </tr>\n",
       "  </tbody>\n",
       "</table>\n",
       "</div>"
      ],
      "text/plain": [
       "   RowNumber  CustomerId   Surname  CreditScore Geography  Gender  Age  \\\n",
       "0          1    15634602  Hargrave          619    France  Female   42   \n",
       "1          2    15647311      Hill          608     Spain  Female   41   \n",
       "2          3    15619304      Onio          502    France  Female   42   \n",
       "3          4    15701354      Boni          699    France  Female   39   \n",
       "4          5    15737888  Mitchell          850     Spain  Female   43   \n",
       "\n",
       "   Tenure    Balance  NumOfProducts  HasCrCard  IsActiveMember  \\\n",
       "0       2       0.00              1          1               1   \n",
       "1       1   83807.86              1          0               1   \n",
       "2       8  159660.80              3          1               0   \n",
       "3       1       0.00              2          0               0   \n",
       "4       2  125510.82              1          1               1   \n",
       "\n",
       "   EstimatedSalary  Exited  \n",
       "0        101348.88       1  \n",
       "1        112542.58       0  \n",
       "2        113931.57       1  \n",
       "3         93826.63       0  \n",
       "4         79084.10       0  "
      ]
     },
     "execution_count": 2,
     "metadata": {},
     "output_type": "execute_result"
    }
   ],
   "source": [
    "dataset.head()"
   ]
  },
  {
   "cell_type": "code",
   "execution_count": 3,
   "metadata": {},
   "outputs": [],
   "source": [
    "import seaborn as sns"
   ]
  },
  {
   "cell_type": "code",
   "execution_count": 4,
   "metadata": {},
   "outputs": [
    {
     "data": {
      "text/plain": [
       "<matplotlib.axes._subplots.AxesSubplot at 0x24fd75f4748>"
      ]
     },
     "execution_count": 4,
     "metadata": {},
     "output_type": "execute_result"
    },
    {
     "data": {
      "image/png": "[encoded data removed]",
      "text/plain": [
       "<matplotlib.figure.Figure at 0x24fd75ea2e8>"
      ]
     },
     "metadata": {},
     "output_type": "display_data"
    }
   ],
   "source": [
    "sns.countplot(dataset['Geography'])"
   ]
  },
  {
   "cell_type": "code",
   "execution_count": 7,
   "metadata": {},
   "outputs": [],
   "source": [
    "#france has a disproportional amount of samples, let's drop half the France data\n",
    "df_class_0 = dataset[dataset['Geography'] == \"France\"]\n"
   ]
  },
  {
   "cell_type": "code",
   "execution_count": 8,
   "metadata": {},
   "outputs": [],
   "source": [
    "df_class_0 = df_class_0.sample(dataset[dataset['Geography'] == \"Spain\"].count()[0])\n"
   ]
  },
  {
   "cell_type": "code",
   "execution_count": 9,
   "metadata": {},
   "outputs": [],
   "source": [
    "dataset = dataset[dataset['Geography'] != \"France\"]"
   ]
  },
  {
   "cell_type": "code",
   "execution_count": 10,
   "metadata": {},
   "outputs": [],
   "source": [
    "frames = [dataset, df_class_0]\n",
    "\n",
    "dataset = pd.concat(frames)"
   ]
  },
  {
   "cell_type": "code",
   "execution_count": 11,
   "metadata": {},
   "outputs": [
    {
     "data": {
      "text/plain": [
       "<matplotlib.axes._subplots.AxesSubplot at 0x24fda700278>"
      ]
     },
     "execution_count": 11,
     "metadata": {},
     "output_type": "execute_result"
    },
    {
     "data": {
      "image/png": "[encoded data removed]",
      "text/plain": [
       "<matplotlib.figure.Figure at 0x24fd96a0240>"
      ]
     },
     "metadata": {},
     "output_type": "display_data"
    }
   ],
   "source": [
    "sns.countplot(dataset['Geography'])"
   ]
  },
  {
   "cell_type": "code",
   "execution_count": 12,
   "metadata": {},
   "outputs": [],
   "source": [
    "X = dataset.iloc[:, 3:13].values\n",
    "y = dataset.iloc[:, 13].values"
   ]
  },
  {
   "cell_type": "code",
   "execution_count": 13,
   "metadata": {},
   "outputs": [],
   "source": [
    "from sklearn.preprocessing import LabelEncoder, OneHotEncoder\n",
    "labelencoder_X_1 = LabelEncoder()\n",
    "X[:, 1] = labelencoder_X_1.fit_transform(X[:, 1])"
   ]
  },
  {
   "cell_type": "code",
   "execution_count": 14,
   "metadata": {},
   "outputs": [],
   "source": [
    "\n",
    "labelencoder_X_2 = LabelEncoder()\n",
    "X[:, 2] = labelencoder_X_2.fit_transform(X[:, 2])"
   ]
  },
  {
   "cell_type": "code",
   "execution_count": 15,
   "metadata": {},
   "outputs": [],
   "source": [
    "onehotencoder = OneHotEncoder(categorical_features = [1])\n",
    "X = onehotencoder.fit_transform(X).toarray()"
   ]
  },
  {
   "cell_type": "code",
   "execution_count": 16,
   "metadata": {},
   "outputs": [],
   "source": [
    "X = X[:,1:]"
   ]
  },
  {
   "cell_type": "code",
   "execution_count": 17,
   "metadata": {},
   "outputs": [
    {
     "data": {
      "text/plain": [
       "array([[0.0000000e+00, 1.0000000e+00, 6.0800000e+02, ..., 0.0000000e+00,\n",
       "        1.0000000e+00, 1.1254258e+05],\n",
       "       [0.0000000e+00, 1.0000000e+00, 8.5000000e+02, ..., 1.0000000e+00,\n",
       "        1.0000000e+00, 7.9084100e+04],\n",
       "       [0.0000000e+00, 1.0000000e+00, 6.4500000e+02, ..., 1.0000000e+00,\n",
       "        0.0000000e+00, 1.4975671e+05],\n",
       "       ...,\n",
       "       [0.0000000e+00, 0.0000000e+00, 6.7900000e+02, ..., 0.0000000e+00,\n",
       "        0.0000000e+00, 6.9608480e+04],\n",
       "       [0.0000000e+00, 0.0000000e+00, 7.4900000e+02, ..., 1.0000000e+00,\n",
       "        1.0000000e+00, 4.7911030e+04],\n",
       "       [0.0000000e+00, 0.0000000e+00, 7.3900000e+02, ..., 1.0000000e+00,\n",
       "        0.0000000e+00, 1.9155710e+05]])"
      ]
     },
     "execution_count": 17,
     "metadata": {},
     "output_type": "execute_result"
    }
   ],
   "source": [
    "X"
   ]
  },
  {
   "cell_type": "code",
   "execution_count": 18,
   "metadata": {},
   "outputs": [],
   "source": [
    "from sklearn.model_selection import train_test_split\n",
    "X_train, X_test, y_train, y_test = train_test_split(X, y, test_size = 0.2, random_state = 123)\n"
   ]
  },
  {
   "cell_type": "code",
   "execution_count": 19,
   "metadata": {},
   "outputs": [],
   "source": [
    "# Feature Scaling\n",
    "from sklearn.preprocessing import StandardScaler\n",
    "sc = StandardScaler()\n",
    "X_train = sc.fit_transform(X_train)\n",
    "X_test = sc.transform(X_test)"
   ]
  },
  {
   "cell_type": "code",
   "execution_count": 20,
   "metadata": {},
   "outputs": [
    {
     "name": "stderr",
     "output_type": "stream",
     "text": [
      "Using TensorFlow backend.\n"
     ]
    }
   ],
   "source": [
    "import keras\n"
   ]
  },
  {
   "cell_type": "code",
   "execution_count": 21,
   "metadata": {},
   "outputs": [],
   "source": [
    "from keras.models import Sequential\n",
    "from keras.layers import Dense"
   ]
  },
  {
   "cell_type": "code",
   "execution_count": 22,
   "metadata": {},
   "outputs": [],
   "source": [
    "classifier = Sequential()"
   ]
  },
  {
   "cell_type": "code",
   "execution_count": 23,
   "metadata": {},
   "outputs": [],
   "source": [
    "classifier.add(Dense(activation=\"relu\", input_dim=11, units=6, kernel_initializer=\"uniform\"))"
   ]
  },
  {
   "cell_type": "code",
   "execution_count": 24,
   "metadata": {},
   "outputs": [],
   "source": [
    "classifier.add(Dense(activation=\"relu\", units=6, kernel_initializer=\"uniform\"))"
   ]
  },
  {
   "cell_type": "code",
   "execution_count": 25,
   "metadata": {},
   "outputs": [],
   "source": [
    "classifier.add(Dense(activation=\"relu\", units=6, kernel_initializer=\"uniform\"))"
   ]
  },
  {
   "cell_type": "code",
   "execution_count": 26,
   "metadata": {},
   "outputs": [],
   "source": [
    "classifier.add(Dense(activation=\"relu\", units=6, kernel_initializer=\"uniform\"))"
   ]
  },
  {
   "cell_type": "code",
   "execution_count": 27,
   "metadata": {},
   "outputs": [],
   "source": [
    "classifier.add(Dense(activation=\"relu\", units=6, kernel_initializer=\"uniform\"))"
   ]
  },
  {
   "cell_type": "code",
   "execution_count": 28,
   "metadata": {},
   "outputs": [],
   "source": [
    "## use softmax activation if there are more than two classes\n"
   ]
  },
  {
   "cell_type": "code",
   "execution_count": 29,
   "metadata": {},
   "outputs": [],
   "source": [
    "classifier.add(Dense(activation=\"sigmoid\", units=1, kernel_initializer=\"uniform\"))"
   ]
  },
  {
   "cell_type": "code",
   "execution_count": 30,
   "metadata": {},
   "outputs": [],
   "source": [
    "## category cross entropy loss for more than two classes"
   ]
  },
  {
   "cell_type": "code",
   "execution_count": 31,
   "metadata": {},
   "outputs": [],
   "source": [
    "classifier.compile(optimizer='adam',loss='binary_crossentropy',metrics=['accuracy'])"
   ]
  },
  {
   "cell_type": "code",
   "execution_count": 56,
   "metadata": {},
   "outputs": [
    {
     "name": "stdout",
     "output_type": "stream",
     "text": [
      "Epoch 1/100\n",
      "5970/5970 [==============================] - 3s 500us/step - loss: 0.5658 - acc: 0.7797\n",
      "Epoch 2/100\n",
      "5970/5970 [==============================] - 1s 153us/step - loss: 0.4508 - acc: 0.7819\n",
      "Epoch 3/100\n",
      "5970/5970 [==============================] - 1s 138us/step - loss: 0.4438 - acc: 0.7819\n",
      "Epoch 4/100\n",
      "5970/5970 [==============================] - 1s 138us/step - loss: 0.4397 - acc: 0.7819\n",
      "Epoch 5/100\n",
      "5970/5970 [==============================] - 1s 139us/step - loss: 0.4362 - acc: 0.7819\n",
      "Epoch 6/100\n",
      "5970/5970 [==============================] - 1s 137us/step - loss: 0.4338 - acc: 0.8037\n",
      "Epoch 7/100\n",
      "5970/5970 [==============================] - 1s 141us/step - loss: 0.4318 - acc: 0.8127\n",
      "Epoch 8/100\n",
      "5970/5970 [==============================] - 1s 143us/step - loss: 0.4300 - acc: 0.8141\n",
      "Epoch 9/100\n",
      "5970/5970 [==============================] - 1s 144us/step - loss: 0.4290 - acc: 0.8181\n",
      "Epoch 10/100\n",
      "5970/5970 [==============================] - 1s 173us/step - loss: 0.4275 - acc: 0.8204\n",
      "Epoch 11/100\n",
      "5970/5970 [==============================] - 1s 144us/step - loss: 0.4268 - acc: 0.8204\n",
      "Epoch 12/100\n",
      "5970/5970 [==============================] - 1s 139us/step - loss: 0.4256 - acc: 0.8224\n",
      "Epoch 13/100\n",
      "5970/5970 [==============================] - 1s 141us/step - loss: 0.4242 - acc: 0.8226\n",
      "Epoch 14/100\n",
      "5970/5970 [==============================] - 1s 161us/step - loss: 0.4234 - acc: 0.8228\n",
      "Epoch 15/100\n",
      "5970/5970 [==============================] - 1s 154us/step - loss: 0.4233 - acc: 0.8243\n",
      "Epoch 16/100\n",
      "5970/5970 [==============================] - 1s 158us/step - loss: 0.4221 - acc: 0.8248\n",
      "Epoch 17/100\n",
      "5970/5970 [==============================] - 1s 142us/step - loss: 0.4216 - acc: 0.8238\n",
      "Epoch 18/100\n",
      "5970/5970 [==============================] - 1s 164us/step - loss: 0.4213 - acc: 0.8246\n",
      "Epoch 19/100\n",
      "5970/5970 [==============================] - 1s 141us/step - loss: 0.4206 - acc: 0.8256\n",
      "Epoch 20/100\n",
      "5970/5970 [==============================] - 1s 139us/step - loss: 0.4200 - acc: 0.8253\n",
      "Epoch 21/100\n",
      "5970/5970 [==============================] - 1s 145us/step - loss: 0.4196 - acc: 0.8268\n",
      "Epoch 22/100\n",
      "5970/5970 [==============================] - 1s 156us/step - loss: 0.4194 - acc: 0.8260\n",
      "Epoch 23/100\n",
      "5970/5970 [==============================] - 1s 157us/step - loss: 0.4184 - acc: 0.8258\n",
      "Epoch 24/100\n",
      "5970/5970 [==============================] - 1s 157us/step - loss: 0.4186 - acc: 0.8243\n",
      "Epoch 25/100\n",
      "5970/5970 [==============================] - 1s 142us/step - loss: 0.4182 - acc: 0.8273\n",
      "Epoch 26/100\n",
      "5970/5970 [==============================] - 1s 142us/step - loss: 0.4177 - acc: 0.8266\n",
      "Epoch 27/100\n",
      "5970/5970 [==============================] - 1s 140us/step - loss: 0.4174 - acc: 0.8258\n",
      "Epoch 28/100\n",
      "5970/5970 [==============================] - 1s 170us/step - loss: 0.4173 - acc: 0.8263\n",
      "Epoch 29/100\n",
      "5970/5970 [==============================] - 1s 145us/step - loss: 0.4172 - acc: 0.8250\n",
      "Epoch 30/100\n",
      "5970/5970 [==============================] - 1s 147us/step - loss: 0.4169 - acc: 0.8286\n",
      "Epoch 31/100\n",
      "5970/5970 [==============================] - 1s 149us/step - loss: 0.4168 - acc: 0.8256\n",
      "Epoch 32/100\n",
      "5970/5970 [==============================] - 1s 152us/step - loss: 0.4167 - acc: 0.8281\n",
      "Epoch 33/100\n",
      "5970/5970 [==============================] - 1s 150us/step - loss: 0.4159 - acc: 0.8256\n",
      "Epoch 34/100\n",
      "5970/5970 [==============================] - 1s 178us/step - loss: 0.4163 - acc: 0.8255\n",
      "Epoch 35/100\n",
      "5970/5970 [==============================] - 1s 138us/step - loss: 0.4160 - acc: 0.8273\n",
      "Epoch 36/100\n",
      "5970/5970 [==============================] - 1s 148us/step - loss: 0.4159 - acc: 0.8276\n",
      "Epoch 37/100\n",
      "5970/5970 [==============================] - 1s 149us/step - loss: 0.4156 - acc: 0.8278\n",
      "Epoch 38/100\n",
      "5970/5970 [==============================] - 1s 150us/step - loss: 0.4157 - acc: 0.8260\n",
      "Epoch 39/100\n",
      "5970/5970 [==============================] - 1s 170us/step - loss: 0.4157 - acc: 0.8266\n",
      "Epoch 40/100\n",
      "5970/5970 [==============================] - 1s 158us/step - loss: 0.4152 - acc: 0.8290\n",
      "Epoch 41/100\n",
      "5970/5970 [==============================] - 1s 157us/step - loss: 0.4157 - acc: 0.8266\n",
      "Epoch 42/100\n",
      "5970/5970 [==============================] - 1s 146us/step - loss: 0.4152 - acc: 0.8286\n",
      "Epoch 43/100\n",
      "5970/5970 [==============================] - 1s 150us/step - loss: 0.4151 - acc: 0.8278\n",
      "Epoch 44/100\n",
      "5970/5970 [==============================] - 1s 146us/step - loss: 0.4152 - acc: 0.8278\n",
      "Epoch 45/100\n",
      "5970/5970 [==============================] - 1s 145us/step - loss: 0.4149 - acc: 0.8268\n",
      "Epoch 46/100\n",
      "5970/5970 [==============================] - 1s 145us/step - loss: 0.4151 - acc: 0.8280\n",
      "Epoch 47/100\n",
      "5970/5970 [==============================] - 1s 148us/step - loss: 0.4145 - acc: 0.8276\n",
      "Epoch 48/100\n",
      "5970/5970 [==============================] - 1s 146us/step - loss: 0.4147 - acc: 0.8266\n",
      "Epoch 49/100\n",
      "5970/5970 [==============================] - 1s 144us/step - loss: 0.4144 - acc: 0.8290\n",
      "Epoch 50/100\n",
      "5970/5970 [==============================] - 1s 151us/step - loss: 0.4143 - acc: 0.8293\n",
      "Epoch 51/100\n",
      "5970/5970 [==============================] - 1s 152us/step - loss: 0.4138 - acc: 0.8278\n",
      "Epoch 52/100\n",
      "5970/5970 [==============================] - 1s 156us/step - loss: 0.4144 - acc: 0.8290\n",
      "Epoch 53/100\n",
      "5970/5970 [==============================] - 1s 140us/step - loss: 0.4141 - acc: 0.8300\n",
      "Epoch 54/100\n",
      "5970/5970 [==============================] - 1s 137us/step - loss: 0.4137 - acc: 0.8295\n",
      "Epoch 55/100\n",
      "5970/5970 [==============================] - 1s 139us/step - loss: 0.4141 - acc: 0.8285\n",
      "Epoch 56/100\n",
      "5970/5970 [==============================] - 1s 155us/step - loss: 0.4139 - acc: 0.8276\n",
      "Epoch 57/100\n",
      "5970/5970 [==============================] - 1s 147us/step - loss: 0.4134 - acc: 0.8278\n",
      "Epoch 58/100\n",
      "5970/5970 [==============================] - 1s 157us/step - loss: 0.4137 - acc: 0.8290\n",
      "Epoch 59/100\n",
      "5970/5970 [==============================] - 1s 139us/step - loss: 0.4137 - acc: 0.8305\n",
      "Epoch 60/100\n",
      "5970/5970 [==============================] - 1s 151us/step - loss: 0.4135 - acc: 0.8286\n",
      "Epoch 61/100\n",
      "5970/5970 [==============================] - 1s 146us/step - loss: 0.4135 - acc: 0.8293\n",
      "Epoch 62/100\n",
      "5970/5970 [==============================] - 1s 142us/step - loss: 0.4136 - acc: 0.8288\n",
      "Epoch 63/100\n",
      "5970/5970 [==============================] - 1s 161us/step - loss: 0.4134 - acc: 0.8291\n",
      "Epoch 64/100\n",
      "5970/5970 [==============================] - 1s 154us/step - loss: 0.4134 - acc: 0.8281\n",
      "Epoch 65/100\n",
      "5970/5970 [==============================] - 1s 144us/step - loss: 0.4131 - acc: 0.8283\n",
      "Epoch 66/100\n",
      "5970/5970 [==============================] - 1s 159us/step - loss: 0.4131 - acc: 0.8293\n",
      "Epoch 67/100\n",
      "5970/5970 [==============================] - 1s 150us/step - loss: 0.4127 - acc: 0.8298\n",
      "Epoch 68/100\n",
      "5970/5970 [==============================] - 1s 151us/step - loss: 0.4131 - acc: 0.8295 0s - loss: 0.4144 - acc: \n",
      "Epoch 69/100\n",
      "5970/5970 [==============================] - 1s 145us/step - loss: 0.4131 - acc: 0.8300\n",
      "Epoch 70/100\n",
      "5970/5970 [==============================] - 1s 142us/step - loss: 0.4127 - acc: 0.8293\n",
      "Epoch 71/100\n",
      "5970/5970 [==============================] - 1s 145us/step - loss: 0.4126 - acc: 0.8308\n",
      "Epoch 72/100\n",
      "5970/5970 [==============================] - 1s 142us/step - loss: 0.4126 - acc: 0.8286\n",
      "Epoch 73/100\n",
      "5970/5970 [==============================] - 1s 142us/step - loss: 0.4129 - acc: 0.8288\n",
      "Epoch 74/100\n",
      "5970/5970 [==============================] - 1s 143us/step - loss: 0.4130 - acc: 0.8276\n",
      "Epoch 75/100\n",
      "5970/5970 [==============================] - 1s 138us/step - loss: 0.4130 - acc: 0.8300\n",
      "Epoch 76/100\n",
      "5970/5970 [==============================] - 1s 146us/step - loss: 0.4127 - acc: 0.8288\n",
      "Epoch 77/100\n",
      "5970/5970 [==============================] - 1s 148us/step - loss: 0.4126 - acc: 0.8295\n",
      "Epoch 78/100\n",
      "5970/5970 [==============================] - 1s 145us/step - loss: 0.4127 - acc: 0.8281\n",
      "Epoch 79/100\n",
      "5970/5970 [==============================] - 1s 143us/step - loss: 0.4127 - acc: 0.8307\n",
      "Epoch 80/100\n",
      "5970/5970 [==============================] - 1s 141us/step - loss: 0.4128 - acc: 0.8286\n",
      "Epoch 81/100\n",
      "5970/5970 [==============================] - 1s 140us/step - loss: 0.4128 - acc: 0.8285\n"
     ]
    },
    {
     "name": "stdout",
     "output_type": "stream",
     "text": [
      "Epoch 82/100\n",
      "5970/5970 [==============================] - 1s 141us/step - loss: 0.4124 - acc: 0.8281\n",
      "Epoch 83/100\n",
      "5970/5970 [==============================] - 1s 137us/step - loss: 0.4124 - acc: 0.8276\n",
      "Epoch 84/100\n",
      "5970/5970 [==============================] - 1s 144us/step - loss: 0.4125 - acc: 0.8295\n",
      "Epoch 85/100\n",
      "5970/5970 [==============================] - 1s 135us/step - loss: 0.4123 - acc: 0.8296\n",
      "Epoch 86/100\n",
      "5970/5970 [==============================] - 1s 140us/step - loss: 0.4125 - acc: 0.8300\n",
      "Epoch 87/100\n",
      "5970/5970 [==============================] - 1s 137us/step - loss: 0.4122 - acc: 0.8296\n",
      "Epoch 88/100\n",
      "5970/5970 [==============================] - 1s 135us/step - loss: 0.4123 - acc: 0.8307\n",
      "Epoch 89/100\n",
      "5970/5970 [==============================] - 1s 135us/step - loss: 0.4125 - acc: 0.8295\n",
      "Epoch 90/100\n",
      "5970/5970 [==============================] - 1s 137us/step - loss: 0.4124 - acc: 0.8276\n",
      "Epoch 91/100\n",
      "5970/5970 [==============================] - 1s 133us/step - loss: 0.4123 - acc: 0.8286\n",
      "Epoch 92/100\n",
      "5970/5970 [==============================] - 1s 136us/step - loss: 0.4121 - acc: 0.8291\n",
      "Epoch 93/100\n",
      "5970/5970 [==============================] - 1s 134us/step - loss: 0.4122 - acc: 0.8313\n",
      "Epoch 94/100\n",
      "5970/5970 [==============================] - 1s 136us/step - loss: 0.4122 - acc: 0.8300\n",
      "Epoch 95/100\n",
      "5970/5970 [==============================] - 1s 138us/step - loss: 0.4119 - acc: 0.8283\n",
      "Epoch 96/100\n",
      "5970/5970 [==============================] - 1s 137us/step - loss: 0.4119 - acc: 0.8291\n",
      "Epoch 97/100\n",
      "5970/5970 [==============================] - 1s 139us/step - loss: 0.4120 - acc: 0.8295\n",
      "Epoch 98/100\n",
      "5970/5970 [==============================] - 1s 138us/step - loss: 0.4121 - acc: 0.8293\n",
      "Epoch 99/100\n",
      "5970/5970 [==============================] - 1s 136us/step - loss: 0.4117 - acc: 0.8293\n",
      "Epoch 100/100\n",
      "5970/5970 [==============================] - 1s 137us/step - loss: 0.4119 - acc: 0.8313\n"
     ]
    },
    {
     "data": {
      "text/plain": [
       "<keras.callbacks.History at 0x24f93991a90>"
      ]
     },
     "execution_count": 56,
     "metadata": {},
     "output_type": "execute_result"
    }
   ],
   "source": [
    "classifier.fit(x=X_train,y=y_train,batch_size=20,epochs=100)"
   ]
  },
  {
   "cell_type": "code",
   "execution_count": 40,
   "metadata": {},
   "outputs": [],
   "source": [
    "from keras.wrappers.scikit_learn import KerasClassifier\n",
    "from keras.layers import Dropout"
   ]
  },
  {
   "cell_type": "code",
   "execution_count": 34,
   "metadata": {},
   "outputs": [],
   "source": [
    "from sklearn.model_selection import cross_val_score"
   ]
  },
  {
   "cell_type": "code",
   "execution_count": 52,
   "metadata": {},
   "outputs": [],
   "source": [
    "def build_classifier():\n",
    "    classifier = Sequential()\n",
    "    classifier.add(Dense(activation=\"relu\", input_dim=11, units=6, kernel_initializer=\"uniform\"))\n",
    "    Dropout(0.1, noise_shape=None, seed=None)\n",
    "    classifier.add(Dense(activation=\"relu\", units=7, kernel_initializer=\"uniform\"))\n",
    "#     Dropout(0.1, noise_shape=None, seed=None)\n",
    "#     classifier.add(Dense(activation=\"relu\", units=7, kernel_initializer=\"uniform\"))\n",
    "#     Dropout(0.1, noise_shape=None, seed=None)\n",
    "#     classifier.add(Dense(activation=\"relu\", units=7, kernel_initializer=\"uniform\"))\n",
    "#     Dropout(0.1, noise_shape=None, seed=None)\n",
    "#     classifier.add(Dense(activation=\"relu\", units=7, kernel_initializer=\"uniform\"))\n",
    "    classifier.add(Dense(activation=\"sigmoid\", units=1, kernel_initializer=\"uniform\"))\n",
    "    classifier.compile(optimizer='adam',loss='binary_crossentropy',metrics=['accuracy'])\n",
    "    \n",
    "    return classifier"
   ]
  },
  {
   "cell_type": "code",
   "execution_count": 53,
   "metadata": {},
   "outputs": [],
   "source": [
    "classifier = KerasClassifier(build_fn = build_classifier,batch_size=10,nb_epoch = 200)"
   ]
  },
  {
   "cell_type": "code",
   "execution_count": 54,
   "metadata": {},
   "outputs": [
    {
     "name": "stdout",
     "output_type": "stream",
     "text": [
      "Epoch 1/1\n",
      "5373/5373 [==============================] - 3s 575us/step - loss: 0.5054 - acc: 0.7839 4s - loss: 0.61\n",
      "597/597 [==============================] - 1s 1ms/step\n",
      "Epoch 1/1\n",
      "5373/5373 [==============================] - 3s 585us/step - loss: 0.5089 - acc: 0.7839\n",
      "597/597 [==============================] - 1s 1ms/step\n",
      "Epoch 1/1\n",
      "5373/5373 [==============================] - 3s 591us/step - loss: 0.5235 - acc: 0.7832\n",
      "597/597 [==============================] - 1s 2ms/step\n",
      "Epoch 1/1\n",
      "5373/5373 [==============================] - 3s 611us/step - loss: 0.5131 - acc: 0.7813\n",
      "597/597 [==============================] - 1s 2ms/step\n",
      "Epoch 1/1\n",
      "5373/5373 [==============================] - 4s 691us/step - loss: 0.5251 - acc: 0.7787\n",
      "597/597 [==============================] - 1s 2ms/step\n",
      "Epoch 1/1\n",
      "5373/5373 [==============================] - 3s 635us/step - loss: 0.5306 - acc: 0.7800\n",
      "597/597 [==============================] - 1s 2ms/step\n",
      "Epoch 1/1\n",
      "5373/5373 [==============================] - 3s 637us/step - loss: 0.5266 - acc: 0.7815\n",
      "597/597 [==============================] - 1s 2ms/step\n",
      "Epoch 1/1\n",
      "5373/5373 [==============================] - 3s 651us/step - loss: 0.5118 - acc: 0.7813\n",
      "597/597 [==============================] - 1s 2ms/step\n",
      "Epoch 1/1\n",
      "5373/5373 [==============================] - 4s 657us/step - loss: 0.5387 - acc: 0.7822\n",
      "597/597 [==============================] - 1s 2ms/step\n",
      "Epoch 1/1\n",
      "5373/5373 [==============================] - 4s 685us/step - loss: 0.5226 - acc: 0.7802\n",
      "597/597 [==============================] - 1s 2ms/step\n"
     ]
    }
   ],
   "source": [
    "accuracies = cross_val_score(estimator = classifier,X = X_train,y = y_train,cv=10,n_jobs = 1)"
   ]
  },
  {
   "cell_type": "code",
   "execution_count": 51,
   "metadata": {},
   "outputs": [
    {
     "data": {
      "text/plain": [
       "78.1909546076353"
      ]
     },
     "execution_count": 51,
     "metadata": {},
     "output_type": "execute_result"
    }
   ],
   "source": [
    "accuracies.mean()*100\n"
   ]
  },
  {
   "cell_type": "code",
   "execution_count": 58,
   "metadata": {},
   "outputs": [],
   "source": [
    "pred = classifier.predict(X_test)"
   ]
  },
  {
   "cell_type": "code",
   "execution_count": 61,
   "metadata": {},
   "outputs": [],
   "source": [
    "from sklearn.metrics import confusion_matrix,accuracy_score"
   ]
  },
  {
   "cell_type": "code",
   "execution_count": 60,
   "metadata": {},
   "outputs": [
    {
     "name": "stdout",
     "output_type": "stream",
     "text": [
      "[[1135   44]\n",
      " [ 202  112]]\n"
     ]
    }
   ],
   "source": [
    "print(confusion_matrix(y_test,pred))"
   ]
  },
  {
   "cell_type": "code",
   "execution_count": 62,
   "metadata": {},
   "outputs": [
    {
     "name": "stdout",
     "output_type": "stream",
     "text": [
      "0.8352310783657066\n"
     ]
    }
   ],
   "source": [
    "print(accuracy_score(y_test,pred))"
   ]
  },
  {
   "cell_type": "code",
   "execution_count": null,
   "metadata": {},
   "outputs": [],
   "source": []
  }
 ],
 "metadata": {
  "kernelspec": {
   "display_name": "Python 3",
   "language": "python",
   "name": "python3"
  },
  "language_info": {
   "codemirror_mode": {
    "name": "ipython",
    "version": 3
   },
   "file_extension": ".py",
   "mimetype": "text/x-python",
   "name": "python",
   "nbconvert_exporter": "python",
   "pygments_lexer": "ipython3",
   "version": "3.6.2"
  }
 },
 "nbformat": 4,
 "nbformat_minor": 2
}
