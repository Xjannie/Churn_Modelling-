{
 "cells": [
  {
   "cell_type": "code",
   "execution_count": 2,
   "metadata": {},
   "outputs": [],
   "source": [
    "# Importing the libraries\n",
    "import numpy as np\n",
    "import matplotlib.pyplot as plt\n",
    "import pandas as pd\n",
    "\n",
    "# Importing the dataset\n",
    "dataset = pd.read_csv('Churn_Modelling.csv')\n",
    "X = dataset.iloc[:, 3:13].values\n",
    "y = dataset.iloc[:, 13].values\n",
    "\n"
   ]
  },
  {
   "cell_type": "code",
   "execution_count": 9,
   "metadata": {},
   "outputs": [
    {
     "data": {
      "text/html": [
       "<div>\n",
       "<style scoped>\n",
       "    .dataframe tbody tr th:only-of-type {\n",
       "        vertical-align: middle;\n",
       "    }\n",
       "\n",
       "    .dataframe tbody tr th {\n",
       "        vertical-align: top;\n",
       "    }\n",
       "\n",
       "    .dataframe thead th {\n",
       "        text-align: right;\n",
       "    }\n",
       "</style>\n",
       "<table border=\"1\" class=\"dataframe\">\n",
       "  <thead>\n",
       "    <tr style=\"text-align: right;\">\n",
       "      <th></th>\n",
       "      <th>RowNumber</th>\n",
       "      <th>CustomerId</th>\n",
       "      <th>Surname</th>\n",
       "      <th>CreditScore</th>\n",
       "      <th>Geography</th>\n",
       "      <th>Gender</th>\n",
       "      <th>Age</th>\n",
       "      <th>Tenure</th>\n",
       "      <th>Balance</th>\n",
       "      <th>NumOfProducts</th>\n",
       "      <th>HasCrCard</th>\n",
       "      <th>IsActiveMember</th>\n",
       "      <th>EstimatedSalary</th>\n",
       "      <th>Exited</th>\n",
       "    </tr>\n",
       "  </thead>\n",
       "  <tbody>\n",
       "    <tr>\n",
       "      <th>0</th>\n",
       "      <td>1</td>\n",
       "      <td>15634602</td>\n",
       "      <td>Hargrave</td>\n",
       "      <td>619</td>\n",
       "      <td>France</td>\n",
       "      <td>Female</td>\n",
       "      <td>42</td>\n",
       "      <td>2</td>\n",
       "      <td>0.00</td>\n",
       "      <td>1</td>\n",
       "      <td>1</td>\n",
       "      <td>1</td>\n",
       "      <td>101348.88</td>\n",
       "      <td>1</td>\n",
       "    </tr>\n",
       "    <tr>\n",
       "      <th>1</th>\n",
       "      <td>2</td>\n",
       "      <td>15647311</td>\n",
       "      <td>Hill</td>\n",
       "      <td>608</td>\n",
       "      <td>Spain</td>\n",
       "      <td>Female</td>\n",
       "      <td>41</td>\n",
       "      <td>1</td>\n",
       "      <td>83807.86</td>\n",
       "      <td>1</td>\n",
       "      <td>0</td>\n",
       "      <td>1</td>\n",
       "      <td>112542.58</td>\n",
       "      <td>0</td>\n",
       "    </tr>\n",
       "    <tr>\n",
       "      <th>2</th>\n",
       "      <td>3</td>\n",
       "      <td>15619304</td>\n",
       "      <td>Onio</td>\n",
       "      <td>502</td>\n",
       "      <td>France</td>\n",
       "      <td>Female</td>\n",
       "      <td>42</td>\n",
       "      <td>8</td>\n",
       "      <td>159660.80</td>\n",
       "      <td>3</td>\n",
       "      <td>1</td>\n",
       "      <td>0</td>\n",
       "      <td>113931.57</td>\n",
       "      <td>1</td>\n",
       "    </tr>\n",
       "    <tr>\n",
       "      <th>3</th>\n",
       "      <td>4</td>\n",
       "      <td>15701354</td>\n",
       "      <td>Boni</td>\n",
       "      <td>699</td>\n",
       "      <td>France</td>\n",
       "      <td>Female</td>\n",
       "      <td>39</td>\n",
       "      <td>1</td>\n",
       "      <td>0.00</td>\n",
       "      <td>2</td>\n",
       "      <td>0</td>\n",
       "      <td>0</td>\n",
       "      <td>93826.63</td>\n",
       "      <td>0</td>\n",
       "    </tr>\n",
       "    <tr>\n",
       "      <th>4</th>\n",
       "      <td>5</td>\n",
       "      <td>15737888</td>\n",
       "      <td>Mitchell</td>\n",
       "      <td>850</td>\n",
       "      <td>Spain</td>\n",
       "      <td>Female</td>\n",
       "      <td>43</td>\n",
       "      <td>2</td>\n",
       "      <td>125510.82</td>\n",
       "      <td>1</td>\n",
       "      <td>1</td>\n",
       "      <td>1</td>\n",
       "      <td>79084.10</td>\n",
       "      <td>0</td>\n",
       "    </tr>\n",
       "  </tbody>\n",
       "</table>\n",
       "</div>"
      ],
      "text/plain": [
       "   RowNumber  CustomerId   Surname  CreditScore Geography  Gender  Age  \\\n",
       "0          1    15634602  Hargrave          619    France  Female   42   \n",
       "1          2    15647311      Hill          608     Spain  Female   41   \n",
       "2          3    15619304      Onio          502    France  Female   42   \n",
       "3          4    15701354      Boni          699    France  Female   39   \n",
       "4          5    15737888  Mitchell          850     Spain  Female   43   \n",
       "\n",
       "   Tenure    Balance  NumOfProducts  HasCrCard  IsActiveMember  \\\n",
       "0       2       0.00              1          1               1   \n",
       "1       1   83807.86              1          0               1   \n",
       "2       8  159660.80              3          1               0   \n",
       "3       1       0.00              2          0               0   \n",
       "4       2  125510.82              1          1               1   \n",
       "\n",
       "   EstimatedSalary  Exited  \n",
       "0        101348.88       1  \n",
       "1        112542.58       0  \n",
       "2        113931.57       1  \n",
       "3         93826.63       0  \n",
       "4         79084.10       0  "
      ]
     },
     "execution_count": 9,
     "metadata": {},
     "output_type": "execute_result"
    }
   ],
   "source": [
    "dataset.head()"
   ]
  },
  {
   "cell_type": "code",
   "execution_count": 10,
   "metadata": {},
   "outputs": [],
   "source": [
    "import seaborn as sns"
   ]
  },
  {
   "cell_type": "code",
   "execution_count": 15,
   "metadata": {},
   "outputs": [
    {
     "data": {
      "text/plain": [
       "<matplotlib.axes._subplots.AxesSubplot at 0x2eb697f9518>"
      ]
     },
     "execution_count": 15,
     "metadata": {},
     "output_type": "execute_result"
    },
    {
     "data": {
      "image/png": "[encoded data removed]",
      "text/plain": [
       "<matplotlib.figure.Figure at 0x2eb668142e8>"
      ]
     },
     "metadata": {},
     "output_type": "display_data"
    }
   ],
   "source": [
    "sns.countplot(dataset['Geography'])"
   ]
  },
  {
   "cell_type": "code",
   "execution_count": 16,
   "metadata": {},
   "outputs": [],
   "source": [
    "#france has a disproportional amount of samples, let's drop half the France data\n",
    "df_class_0 = dataset[dataset['Geography'] == \"France\"]\n"
   ]
  },
  {
   "cell_type": "code",
   "execution_count": 26,
   "metadata": {},
   "outputs": [],
   "source": [
    "df_class_0 = df_class_0.sample(dataset[dataset['Geography'] == \"Spain\"].count()[0])\n"
   ]
  },
  {
   "cell_type": "code",
   "execution_count": 27,
   "metadata": {},
   "outputs": [
    {
     "data": {
      "text/html": [
       "<div>\n",
       "<style scoped>\n",
       "    .dataframe tbody tr th:only-of-type {\n",
       "        vertical-align: middle;\n",
       "    }\n",
       "\n",
       "    .dataframe tbody tr th {\n",
       "        vertical-align: top;\n",
       "    }\n",
       "\n",
       "    .dataframe thead th {\n",
       "        text-align: right;\n",
       "    }\n",
       "</style>\n",
       "<table border=\"1\" class=\"dataframe\">\n",
       "  <thead>\n",
       "    <tr style=\"text-align: right;\">\n",
       "      <th></th>\n",
       "      <th>RowNumber</th>\n",
       "      <th>CustomerId</th>\n",
       "      <th>CreditScore</th>\n",
       "      <th>Age</th>\n",
       "      <th>Tenure</th>\n",
       "      <th>Balance</th>\n",
       "      <th>NumOfProducts</th>\n",
       "      <th>HasCrCard</th>\n",
       "      <th>IsActiveMember</th>\n",
       "      <th>EstimatedSalary</th>\n",
       "      <th>Exited</th>\n",
       "    </tr>\n",
       "  </thead>\n",
       "  <tbody>\n",
       "    <tr>\n",
       "      <th>count</th>\n",
       "      <td>2477.000000</td>\n",
       "      <td>2.477000e+03</td>\n",
       "      <td>2477.000000</td>\n",
       "      <td>2477.000000</td>\n",
       "      <td>2477.000000</td>\n",
       "      <td>2477.000000</td>\n",
       "      <td>2477.000000</td>\n",
       "      <td>2477.000000</td>\n",
       "      <td>2477.000000</td>\n",
       "      <td>2477.000000</td>\n",
       "      <td>2477.000000</td>\n",
       "    </tr>\n",
       "    <tr>\n",
       "      <th>mean</th>\n",
       "      <td>5056.510295</td>\n",
       "      <td>1.569060e+07</td>\n",
       "      <td>649.946710</td>\n",
       "      <td>38.757368</td>\n",
       "      <td>4.958417</td>\n",
       "      <td>62076.500803</td>\n",
       "      <td>1.539766</td>\n",
       "      <td>0.700040</td>\n",
       "      <td>0.510295</td>\n",
       "      <td>100596.421498</td>\n",
       "      <td>0.166330</td>\n",
       "    </tr>\n",
       "    <tr>\n",
       "      <th>std</th>\n",
       "      <td>2887.459665</td>\n",
       "      <td>7.132954e+04</td>\n",
       "      <td>96.868849</td>\n",
       "      <td>10.673658</td>\n",
       "      <td>2.882928</td>\n",
       "      <td>63984.434977</td>\n",
       "      <td>0.575949</td>\n",
       "      <td>0.458332</td>\n",
       "      <td>0.499995</td>\n",
       "      <td>57550.051015</td>\n",
       "      <td>0.372452</td>\n",
       "    </tr>\n",
       "    <tr>\n",
       "      <th>min</th>\n",
       "      <td>1.000000</td>\n",
       "      <td>1.556581e+07</td>\n",
       "      <td>350.000000</td>\n",
       "      <td>18.000000</td>\n",
       "      <td>0.000000</td>\n",
       "      <td>0.000000</td>\n",
       "      <td>1.000000</td>\n",
       "      <td>0.000000</td>\n",
       "      <td>0.000000</td>\n",
       "      <td>90.070000</td>\n",
       "      <td>0.000000</td>\n",
       "    </tr>\n",
       "    <tr>\n",
       "      <th>25%</th>\n",
       "      <td>2660.000000</td>\n",
       "      <td>1.562803e+07</td>\n",
       "      <td>580.000000</td>\n",
       "      <td>32.000000</td>\n",
       "      <td>2.000000</td>\n",
       "      <td>0.000000</td>\n",
       "      <td>1.000000</td>\n",
       "      <td>0.000000</td>\n",
       "      <td>0.000000</td>\n",
       "      <td>51670.820000</td>\n",
       "      <td>0.000000</td>\n",
       "    </tr>\n",
       "    <tr>\n",
       "      <th>50%</th>\n",
       "      <td>5003.000000</td>\n",
       "      <td>1.569241e+07</td>\n",
       "      <td>654.000000</td>\n",
       "      <td>37.000000</td>\n",
       "      <td>5.000000</td>\n",
       "      <td>62321.620000</td>\n",
       "      <td>2.000000</td>\n",
       "      <td>1.000000</td>\n",
       "      <td>1.000000</td>\n",
       "      <td>101348.880000</td>\n",
       "      <td>0.000000</td>\n",
       "    </tr>\n",
       "    <tr>\n",
       "      <th>75%</th>\n",
       "      <td>7566.000000</td>\n",
       "      <td>1.575133e+07</td>\n",
       "      <td>716.000000</td>\n",
       "      <td>43.000000</td>\n",
       "      <td>7.000000</td>\n",
       "      <td>121535.180000</td>\n",
       "      <td>2.000000</td>\n",
       "      <td>1.000000</td>\n",
       "      <td>1.000000</td>\n",
       "      <td>149892.790000</td>\n",
       "      <td>0.000000</td>\n",
       "    </tr>\n",
       "    <tr>\n",
       "      <th>max</th>\n",
       "      <td>10000.000000</td>\n",
       "      <td>1.581564e+07</td>\n",
       "      <td>850.000000</td>\n",
       "      <td>92.000000</td>\n",
       "      <td>10.000000</td>\n",
       "      <td>238387.560000</td>\n",
       "      <td>4.000000</td>\n",
       "      <td>1.000000</td>\n",
       "      <td>1.000000</td>\n",
       "      <td>199727.720000</td>\n",
       "      <td>1.000000</td>\n",
       "    </tr>\n",
       "  </tbody>\n",
       "</table>\n",
       "</div>"
      ],
      "text/plain": [
       "          RowNumber    CustomerId  CreditScore          Age       Tenure  \\\n",
       "count   2477.000000  2.477000e+03  2477.000000  2477.000000  2477.000000   \n",
       "mean    5056.510295  1.569060e+07   649.946710    38.757368     4.958417   \n",
       "std     2887.459665  7.132954e+04    96.868849    10.673658     2.882928   \n",
       "min        1.000000  1.556581e+07   350.000000    18.000000     0.000000   \n",
       "25%     2660.000000  1.562803e+07   580.000000    32.000000     2.000000   \n",
       "50%     5003.000000  1.569241e+07   654.000000    37.000000     5.000000   \n",
       "75%     7566.000000  1.575133e+07   716.000000    43.000000     7.000000   \n",
       "max    10000.000000  1.581564e+07   850.000000    92.000000    10.000000   \n",
       "\n",
       "             Balance  NumOfProducts    HasCrCard  IsActiveMember  \\\n",
       "count    2477.000000    2477.000000  2477.000000     2477.000000   \n",
       "mean    62076.500803       1.539766     0.700040        0.510295   \n",
       "std     63984.434977       0.575949     0.458332        0.499995   \n",
       "min         0.000000       1.000000     0.000000        0.000000   \n",
       "25%         0.000000       1.000000     0.000000        0.000000   \n",
       "50%     62321.620000       2.000000     1.000000        1.000000   \n",
       "75%    121535.180000       2.000000     1.000000        1.000000   \n",
       "max    238387.560000       4.000000     1.000000        1.000000   \n",
       "\n",
       "       EstimatedSalary       Exited  \n",
       "count      2477.000000  2477.000000  \n",
       "mean     100596.421498     0.166330  \n",
       "std       57550.051015     0.372452  \n",
       "min          90.070000     0.000000  \n",
       "25%       51670.820000     0.000000  \n",
       "50%      101348.880000     0.000000  \n",
       "75%      149892.790000     0.000000  \n",
       "max      199727.720000     1.000000  "
      ]
     },
     "execution_count": 27,
     "metadata": {},
     "output_type": "execute_result"
    }
   ],
   "source": [
    "df_class_0.describe()"
   ]
  },
  {
   "cell_type": "code",
   "execution_count": 3,
   "metadata": {},
   "outputs": [],
   "source": [
    "from sklearn.preprocessing import LabelEncoder, OneHotEncoder\n",
    "labelencoder_X_1 = LabelEncoder()\n",
    "X[:, 1] = labelencoder_X_1.fit_transform(X[:, 1])"
   ]
  },
  {
   "cell_type": "code",
   "execution_count": 4,
   "metadata": {},
   "outputs": [],
   "source": [
    "\n",
    "labelencoder_X_2 = LabelEncoder()\n",
    "X[:, 2] = labelencoder_X_2.fit_transform(X[:, 2])"
   ]
  },
  {
   "cell_type": "code",
   "execution_count": 5,
   "metadata": {},
   "outputs": [],
   "source": [
    "onehotencoder = OneHotEncoder(categorical_features = [1])\n",
    "X = onehotencoder.fit_transform(X).toarray()"
   ]
  },
  {
   "cell_type": "code",
   "execution_count": 6,
   "metadata": {},
   "outputs": [],
   "source": [
    "X = X[:,1:]"
   ]
  },
  {
   "cell_type": "code",
   "execution_count": 8,
   "metadata": {},
   "outputs": [
    {
     "data": {
      "text/plain": [
       "array([[0.0000000e+00, 0.0000000e+00, 6.1900000e+02, ..., 1.0000000e+00,\n",
       "        1.0000000e+00, 1.0134888e+05],\n",
       "       [0.0000000e+00, 1.0000000e+00, 6.0800000e+02, ..., 0.0000000e+00,\n",
       "        1.0000000e+00, 1.1254258e+05],\n",
       "       [0.0000000e+00, 0.0000000e+00, 5.0200000e+02, ..., 1.0000000e+00,\n",
       "        0.0000000e+00, 1.1393157e+05],\n",
       "       ...,\n",
       "       [0.0000000e+00, 0.0000000e+00, 7.0900000e+02, ..., 0.0000000e+00,\n",
       "        1.0000000e+00, 4.2085580e+04],\n",
       "       [1.0000000e+00, 0.0000000e+00, 7.7200000e+02, ..., 1.0000000e+00,\n",
       "        0.0000000e+00, 9.2888520e+04],\n",
       "       [0.0000000e+00, 0.0000000e+00, 7.9200000e+02, ..., 1.0000000e+00,\n",
       "        0.0000000e+00, 3.8190780e+04]])"
      ]
     },
     "execution_count": 8,
     "metadata": {},
     "output_type": "execute_result"
    }
   ],
   "source": [
    "X"
   ]
  },
  {
   "cell_type": "code",
   "execution_count": 7,
   "metadata": {},
   "outputs": [],
   "source": [
    "from sklearn.model_selection import train_test_split\n",
    "X_train, X_test, y_train, y_test = train_test_split(X, y, test_size = 0.2, random_state = 123)\n"
   ]
  },
  {
   "cell_type": "code",
   "execution_count": 8,
   "metadata": {},
   "outputs": [],
   "source": [
    "# Feature Scaling\n",
    "from sklearn.preprocessing import StandardScaler\n",
    "sc = StandardScaler()\n",
    "X_train = sc.fit_transform(X_train)\n",
    "X_test = sc.transform(X_test)"
   ]
  },
  {
   "cell_type": "code",
   "execution_count": 9,
   "metadata": {},
   "outputs": [
    {
     "name": "stderr",
     "output_type": "stream",
     "text": [
      "Using TensorFlow backend.\n"
     ]
    }
   ],
   "source": [
    "import keras\n"
   ]
  },
  {
   "cell_type": "code",
   "execution_count": 10,
   "metadata": {},
   "outputs": [],
   "source": [
    "from keras.models import Sequential\n",
    "from keras.layers import Dense"
   ]
  },
  {
   "cell_type": "code",
   "execution_count": 11,
   "metadata": {},
   "outputs": [],
   "source": [
    "classifier = Sequential()"
   ]
  },
  {
   "cell_type": "code",
   "execution_count": 12,
   "metadata": {},
   "outputs": [],
   "source": [
    "classifier.add(Dense(activation=\"relu\", input_dim=11, units=6, kernel_initializer=\"uniform\"))"
   ]
  },
  {
   "cell_type": "code",
   "execution_count": 13,
   "metadata": {},
   "outputs": [],
   "source": [
    "classifier.add(Dense(activation=\"relu\", units=6, kernel_initializer=\"uniform\"))"
   ]
  },
  {
   "cell_type": "code",
   "execution_count": 14,
   "metadata": {},
   "outputs": [],
   "source": [
    "classifier.add(Dense(activation=\"relu\", units=6, kernel_initializer=\"uniform\"))"
   ]
  },
  {
   "cell_type": "code",
   "execution_count": 15,
   "metadata": {},
   "outputs": [],
   "source": [
    "classifier.add(Dense(activation=\"relu\", units=6, kernel_initializer=\"uniform\"))"
   ]
  },
  {
   "cell_type": "code",
   "execution_count": 16,
   "metadata": {},
   "outputs": [],
   "source": [
    "classifier.add(Dense(activation=\"relu\", units=6, kernel_initializer=\"uniform\"))"
   ]
  },
  {
   "cell_type": "code",
   "execution_count": 17,
   "metadata": {},
   "outputs": [],
   "source": [
    "## use softmax activation if there are more than two classes\n"
   ]
  },
  {
   "cell_type": "code",
   "execution_count": 18,
   "metadata": {},
   "outputs": [],
   "source": [
    "classifier.add(Dense(activation=\"sigmoid\", units=1, kernel_initializer=\"uniform\"))"
   ]
  },
  {
   "cell_type": "code",
   "execution_count": 19,
   "metadata": {},
   "outputs": [],
   "source": [
    "## category cross entropy loss for more than two classes"
   ]
  },
  {
   "cell_type": "code",
   "execution_count": 20,
   "metadata": {},
   "outputs": [],
   "source": [
    "classifier.compile(optimizer='adam',loss='binary_crossentropy',metrics=['accuracy'])"
   ]
  },
  {
   "cell_type": "code",
   "execution_count": 21,
   "metadata": {},
   "outputs": [
    {
     "name": "stdout",
     "output_type": "stream",
     "text": [
      "Epoch 1/100\n",
      "8000/8000 [==============================] - 1s 82us/step - loss: 0.5321 - acc: 0.7971\n",
      "Epoch 2/100\n",
      "8000/8000 [==============================] - 0s 40us/step - loss: 0.4376 - acc: 0.7971\n",
      "Epoch 3/100\n",
      "8000/8000 [==============================] - 0s 39us/step - loss: 0.4273 - acc: 0.7971\n",
      "Epoch 4/100\n",
      "8000/8000 [==============================] - 0s 40us/step - loss: 0.4218 - acc: 0.8029\n",
      "Epoch 5/100\n",
      "8000/8000 [==============================] - 0s 40us/step - loss: 0.4190 - acc: 0.8248\n",
      "Epoch 6/100\n",
      "8000/8000 [==============================] - 0s 42us/step - loss: 0.4167 - acc: 0.8268\n",
      "Epoch 7/100\n",
      "8000/8000 [==============================] - 0s 41us/step - loss: 0.4153 - acc: 0.8290\n",
      "Epoch 8/100\n",
      "8000/8000 [==============================] - 0s 41us/step - loss: 0.4141 - acc: 0.8315\n",
      "Epoch 9/100\n",
      "8000/8000 [==============================] - 0s 40us/step - loss: 0.4125 - acc: 0.8321\n",
      "Epoch 10/100\n",
      "8000/8000 [==============================] - 0s 41us/step - loss: 0.4113 - acc: 0.8326\n",
      "Epoch 11/100\n",
      "8000/8000 [==============================] - 0s 40us/step - loss: 0.4103 - acc: 0.8351\n",
      "Epoch 12/100\n",
      "8000/8000 [==============================] - 0s 41us/step - loss: 0.4097 - acc: 0.8346\n",
      "Epoch 13/100\n",
      "8000/8000 [==============================] - 0s 39us/step - loss: 0.4084 - acc: 0.8355\n",
      "Epoch 14/100\n",
      "8000/8000 [==============================] - 0s 40us/step - loss: 0.4072 - acc: 0.8349\n",
      "Epoch 15/100\n",
      "8000/8000 [==============================] - 0s 40us/step - loss: 0.4069 - acc: 0.8364\n",
      "Epoch 16/100\n",
      "8000/8000 [==============================] - 0s 41us/step - loss: 0.4063 - acc: 0.8369\n",
      "Epoch 17/100\n",
      "8000/8000 [==============================] - 0s 41us/step - loss: 0.4062 - acc: 0.8386\n",
      "Epoch 18/100\n",
      "8000/8000 [==============================] - 0s 40us/step - loss: 0.4052 - acc: 0.8363\n",
      "Epoch 19/100\n",
      "8000/8000 [==============================] - 0s 40us/step - loss: 0.4051 - acc: 0.8378\n",
      "Epoch 20/100\n",
      "8000/8000 [==============================] - 0s 40us/step - loss: 0.4038 - acc: 0.8349\n",
      "Epoch 21/100\n",
      "8000/8000 [==============================] - 0s 40us/step - loss: 0.4043 - acc: 0.8370\n",
      "Epoch 22/100\n",
      "8000/8000 [==============================] - 0s 40us/step - loss: 0.4037 - acc: 0.8374\n",
      "Epoch 23/100\n",
      "8000/8000 [==============================] - 0s 39us/step - loss: 0.4035 - acc: 0.8377\n",
      "Epoch 24/100\n",
      "8000/8000 [==============================] - 0s 40us/step - loss: 0.4034 - acc: 0.8368\n",
      "Epoch 25/100\n",
      "8000/8000 [==============================] - 0s 40us/step - loss: 0.4028 - acc: 0.8374\n",
      "Epoch 26/100\n",
      "8000/8000 [==============================] - 0s 40us/step - loss: 0.4029 - acc: 0.8386\n",
      "Epoch 27/100\n",
      "8000/8000 [==============================] - 0s 40us/step - loss: 0.4029 - acc: 0.8367\n",
      "Epoch 28/100\n",
      "8000/8000 [==============================] - 0s 40us/step - loss: 0.4025 - acc: 0.8373\n",
      "Epoch 29/100\n",
      "8000/8000 [==============================] - 0s 42us/step - loss: 0.4024 - acc: 0.8386\n",
      "Epoch 30/100\n",
      "8000/8000 [==============================] - 0s 42us/step - loss: 0.4019 - acc: 0.8381\n",
      "Epoch 31/100\n",
      "8000/8000 [==============================] - 0s 42us/step - loss: 0.4026 - acc: 0.8370\n",
      "Epoch 32/100\n",
      "8000/8000 [==============================] - 0s 40us/step - loss: 0.4017 - acc: 0.8381\n",
      "Epoch 33/100\n",
      "8000/8000 [==============================] - 0s 40us/step - loss: 0.4017 - acc: 0.8389\n",
      "Epoch 34/100\n",
      "8000/8000 [==============================] - 0s 39us/step - loss: 0.4010 - acc: 0.8384\n",
      "Epoch 35/100\n",
      "8000/8000 [==============================] - 0s 40us/step - loss: 0.4015 - acc: 0.8381\n",
      "Epoch 36/100\n",
      "8000/8000 [==============================] - 0s 39us/step - loss: 0.4011 - acc: 0.8399\n",
      "Epoch 37/100\n",
      "8000/8000 [==============================] - 0s 40us/step - loss: 0.4007 - acc: 0.8383\n",
      "Epoch 38/100\n",
      "8000/8000 [==============================] - 0s 39us/step - loss: 0.4001 - acc: 0.8386\n",
      "Epoch 39/100\n",
      "8000/8000 [==============================] - 0s 40us/step - loss: 0.4010 - acc: 0.8405\n",
      "Epoch 40/100\n",
      "8000/8000 [==============================] - 0s 40us/step - loss: 0.4008 - acc: 0.8386\n",
      "Epoch 41/100\n",
      "8000/8000 [==============================] - 0s 41us/step - loss: 0.4000 - acc: 0.8380\n",
      "Epoch 42/100\n",
      "8000/8000 [==============================] - 0s 40us/step - loss: 0.4005 - acc: 0.8394\n",
      "Epoch 43/100\n",
      "8000/8000 [==============================] - 0s 42us/step - loss: 0.4004 - acc: 0.8385\n",
      "Epoch 44/100\n",
      "8000/8000 [==============================] - 0s 40us/step - loss: 0.4007 - acc: 0.8393\n",
      "Epoch 45/100\n",
      "8000/8000 [==============================] - 0s 40us/step - loss: 0.4009 - acc: 0.8400\n",
      "Epoch 46/100\n",
      "8000/8000 [==============================] - 0s 39us/step - loss: 0.4003 - acc: 0.8385\n",
      "Epoch 47/100\n",
      "8000/8000 [==============================] - 0s 39us/step - loss: 0.4001 - acc: 0.8404\n",
      "Epoch 48/100\n",
      "8000/8000 [==============================] - 0s 40us/step - loss: 0.4001 - acc: 0.8392\n",
      "Epoch 49/100\n",
      "8000/8000 [==============================] - 0s 40us/step - loss: 0.3999 - acc: 0.8388\n",
      "Epoch 50/100\n",
      "8000/8000 [==============================] - 0s 40us/step - loss: 0.4004 - acc: 0.8398\n",
      "Epoch 51/100\n",
      "8000/8000 [==============================] - 0s 40us/step - loss: 0.4002 - acc: 0.8394\n",
      "Epoch 52/100\n",
      "8000/8000 [==============================] - 0s 39us/step - loss: 0.3997 - acc: 0.8384\n",
      "Epoch 53/100\n",
      "8000/8000 [==============================] - 0s 39us/step - loss: 0.4000 - acc: 0.8404\n",
      "Epoch 54/100\n",
      "8000/8000 [==============================] - 0s 39us/step - loss: 0.4002 - acc: 0.8380\n",
      "Epoch 55/100\n",
      "8000/8000 [==============================] - 0s 39us/step - loss: 0.3998 - acc: 0.8394\n",
      "Epoch 56/100\n",
      "8000/8000 [==============================] - 0s 39us/step - loss: 0.3996 - acc: 0.8384\n",
      "Epoch 57/100\n",
      "8000/8000 [==============================] - 0s 41us/step - loss: 0.3994 - acc: 0.8400\n",
      "Epoch 58/100\n",
      "8000/8000 [==============================] - 0s 40us/step - loss: 0.3991 - acc: 0.8395\n",
      "Epoch 59/100\n",
      "8000/8000 [==============================] - 0s 40us/step - loss: 0.3995 - acc: 0.8401\n",
      "Epoch 60/100\n",
      "8000/8000 [==============================] - 0s 41us/step - loss: 0.3991 - acc: 0.8398\n",
      "Epoch 61/100\n",
      "8000/8000 [==============================] - 0s 41us/step - loss: 0.3997 - acc: 0.8396\n",
      "Epoch 62/100\n",
      "8000/8000 [==============================] - 0s 39us/step - loss: 0.3992 - acc: 0.8395\n",
      "Epoch 63/100\n",
      "8000/8000 [==============================] - 0s 39us/step - loss: 0.3989 - acc: 0.8393\n",
      "Epoch 64/100\n",
      "8000/8000 [==============================] - 0s 39us/step - loss: 0.3984 - acc: 0.8398\n",
      "Epoch 65/100\n",
      "8000/8000 [==============================] - 0s 39us/step - loss: 0.3985 - acc: 0.8404\n",
      "Epoch 66/100\n",
      "8000/8000 [==============================] - 0s 40us/step - loss: 0.3984 - acc: 0.8396\n",
      "Epoch 67/100\n",
      "8000/8000 [==============================] - 0s 39us/step - loss: 0.3982 - acc: 0.8398\n",
      "Epoch 68/100\n",
      "8000/8000 [==============================] - 0s 39us/step - loss: 0.3981 - acc: 0.8384\n",
      "Epoch 69/100\n",
      "8000/8000 [==============================] - 0s 39us/step - loss: 0.3977 - acc: 0.8398\n",
      "Epoch 70/100\n",
      "8000/8000 [==============================] - 0s 40us/step - loss: 0.3975 - acc: 0.8401\n",
      "Epoch 71/100\n",
      "8000/8000 [==============================] - 0s 40us/step - loss: 0.3973 - acc: 0.8405\n",
      "Epoch 72/100\n",
      "8000/8000 [==============================] - 0s 40us/step - loss: 0.3968 - acc: 0.8394\n",
      "Epoch 73/100\n",
      "8000/8000 [==============================] - 0s 39us/step - loss: 0.3973 - acc: 0.8396\n",
      "Epoch 74/100\n",
      "8000/8000 [==============================] - 0s 40us/step - loss: 0.3964 - acc: 0.8410\n",
      "Epoch 75/100\n",
      "8000/8000 [==============================] - 0s 40us/step - loss: 0.3969 - acc: 0.8409\n",
      "Epoch 76/100\n",
      "8000/8000 [==============================] - 0s 40us/step - loss: 0.3963 - acc: 0.8405\n",
      "Epoch 77/100\n",
      "8000/8000 [==============================] - 0s 39us/step - loss: 0.3960 - acc: 0.8398\n",
      "Epoch 78/100\n",
      "8000/8000 [==============================] - 0s 40us/step - loss: 0.3961 - acc: 0.8402\n",
      "Epoch 79/100\n",
      "8000/8000 [==============================] - 0s 40us/step - loss: 0.3961 - acc: 0.8405\n",
      "Epoch 80/100\n",
      "8000/8000 [==============================] - 0s 39us/step - loss: 0.3952 - acc: 0.8414\n",
      "Epoch 81/100\n",
      "8000/8000 [==============================] - 0s 39us/step - loss: 0.3957 - acc: 0.8410\n",
      "Epoch 82/100\n",
      "8000/8000 [==============================] - 0s 40us/step - loss: 0.3952 - acc: 0.8416\n",
      "Epoch 83/100\n"
     ]
    },
    {
     "name": "stdout",
     "output_type": "stream",
     "text": [
      "8000/8000 [==============================] - 0s 41us/step - loss: 0.3944 - acc: 0.8405\n",
      "Epoch 84/100\n",
      "8000/8000 [==============================] - 0s 40us/step - loss: 0.3953 - acc: 0.8419\n",
      "Epoch 85/100\n",
      "8000/8000 [==============================] - 0s 39us/step - loss: 0.3944 - acc: 0.8406\n",
      "Epoch 86/100\n",
      "8000/8000 [==============================] - 0s 39us/step - loss: 0.3953 - acc: 0.8414\n",
      "Epoch 87/100\n",
      "8000/8000 [==============================] - 0s 39us/step - loss: 0.3946 - acc: 0.8426\n",
      "Epoch 88/100\n",
      "8000/8000 [==============================] - 0s 39us/step - loss: 0.3946 - acc: 0.8407\n",
      "Epoch 89/100\n",
      "8000/8000 [==============================] - 0s 40us/step - loss: 0.3950 - acc: 0.8416\n",
      "Epoch 90/100\n",
      "8000/8000 [==============================] - 0s 39us/step - loss: 0.3951 - acc: 0.8404\n",
      "Epoch 91/100\n",
      "8000/8000 [==============================] - 0s 39us/step - loss: 0.3941 - acc: 0.8418\n",
      "Epoch 92/100\n",
      "8000/8000 [==============================] - 0s 40us/step - loss: 0.3944 - acc: 0.8399\n",
      "Epoch 93/100\n",
      "8000/8000 [==============================] - 0s 40us/step - loss: 0.3946 - acc: 0.8404\n",
      "Epoch 94/100\n",
      "8000/8000 [==============================] - 0s 40us/step - loss: 0.3939 - acc: 0.8399\n",
      "Epoch 95/100\n",
      "8000/8000 [==============================] - 0s 40us/step - loss: 0.3939 - acc: 0.8415\n",
      "Epoch 96/100\n",
      "8000/8000 [==============================] - 0s 40us/step - loss: 0.3940 - acc: 0.8419\n",
      "Epoch 97/100\n",
      "8000/8000 [==============================] - 0s 40us/step - loss: 0.3934 - acc: 0.8401\n",
      "Epoch 98/100\n",
      "8000/8000 [==============================] - 0s 40us/step - loss: 0.3940 - acc: 0.8410\n",
      "Epoch 99/100\n",
      "8000/8000 [==============================] - 0s 39us/step - loss: 0.3940 - acc: 0.8402\n",
      "Epoch 100/100\n",
      "8000/8000 [==============================] - 0s 39us/step - loss: 0.3934 - acc: 0.8416\n"
     ]
    },
    {
     "data": {
      "text/plain": [
       "<keras.callbacks.History at 0x287a1375e80>"
      ]
     },
     "execution_count": 21,
     "metadata": {},
     "output_type": "execute_result"
    }
   ],
   "source": [
    "classifier.fit(x=X_train,y=y_train,batch_size=20,epochs=100)"
   ]
  },
  {
   "cell_type": "code",
   "execution_count": 22,
   "metadata": {},
   "outputs": [],
   "source": [
    "from keras.wrappers.scikit_learn import KerasClassifier"
   ]
  },
  {
   "cell_type": "code",
   "execution_count": 23,
   "metadata": {},
   "outputs": [],
   "source": [
    "from sklearn.model_selection import cross_val_score"
   ]
  },
  {
   "cell_type": "code",
   "execution_count": 24,
   "metadata": {},
   "outputs": [],
   "source": [
    "def build_classifier():\n",
    "    classifier = Sequential()\n",
    "    classifier.add(Dense(activation=\"relu\", input_dim=11, units=6, kernel_initializer=\"uniform\"))\n",
    "    classifier.add(Dense(activation=\"relu\", units=6, kernel_initializer=\"uniform\"))\n",
    "    classifier.add(Dense(activation=\"relu\", units=6, kernel_initializer=\"uniform\"))\n",
    "    classifier.add(Dense(activation=\"relu\", units=6, kernel_initializer=\"uniform\"))\n",
    "    classifier.add(Dense(activation=\"relu\", units=6, kernel_initializer=\"uniform\"))\n",
    "    classifier.add(Dense(activation=\"sigmoid\", units=1, kernel_initializer=\"uniform\"))\n",
    "    classifier.compile(optimizer='adam',loss='binary_crossentropy',metrics=['accuracy'])\n",
    "    \n",
    "    return classifier"
   ]
  },
  {
   "cell_type": "code",
   "execution_count": 25,
   "metadata": {},
   "outputs": [],
   "source": [
    "classifier = KerasClassifier(build_fn = build_classifier,batch_size=10,nb_epoch = 100)"
   ]
  },
  {
   "cell_type": "code",
   "execution_count": null,
   "metadata": {},
   "outputs": [],
   "source": [
    "accuracies = cross_val_score(estimator = classifier,X = X_train,y = y_train,cv=10,n_jobs = -1)"
   ]
  },
  {
   "cell_type": "code",
   "execution_count": null,
   "metadata": {},
   "outputs": [],
   "source": []
  }
 ],
 "metadata": {
  "kernelspec": {
   "display_name": "Python 3",
   "language": "python",
   "name": "python3"
  },
  "language_info": {
   "codemirror_mode": {
    "name": "ipython",
    "version": 3
   },
   "file_extension": ".py",
   "mimetype": "text/x-python",
   "name": "python",
   "nbconvert_exporter": "python",
   "pygments_lexer": "ipython3",
   "version": "3.6.2"
  }
 },
 "nbformat": 4,
 "nbformat_minor": 2
}
