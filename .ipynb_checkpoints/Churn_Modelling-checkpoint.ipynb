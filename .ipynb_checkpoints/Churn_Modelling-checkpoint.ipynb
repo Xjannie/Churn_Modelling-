{
 "cells": [
  {
   "cell_type": "code",
   "execution_count": 114,
   "metadata": {},
   "outputs": [],
   "source": [
    "# Importing the libraries\n",
    "import numpy as np\n",
    "import matplotlib.pyplot as plt\n",
    "import pandas as pd\n",
    "import seaborn as sns\n",
    "\n",
    "# Importing the dataset\n",
    "dataset = pd.read_csv('Churn_Modelling.csv')\n",
    "\n"
   ]
  },
  {
   "cell_type": "code",
   "execution_count": 115,
   "metadata": {},
   "outputs": [
    {
     "data": {
      "text/plain": [
       "2037"
      ]
     },
     "execution_count": 115,
     "metadata": {},
     "output_type": "execute_result"
    }
   ],
   "source": [
    "#the dataset is unbalanced\n",
    "dataset['Exited'].sum()"
   ]
  },
  {
   "cell_type": "code",
   "execution_count": 116,
   "metadata": {},
   "outputs": [],
   "source": [
    "df = dataset[dataset['Exited'] == 0].iloc[0:2037]\n",
    "df2 = dataset[dataset['Exited'] == 1]\n",
    "dataset = pd.concat([df,df2])"
   ]
  },
  {
   "cell_type": "code",
   "execution_count": 117,
   "metadata": {},
   "outputs": [],
   "source": [
    "X = dataset.iloc[:, 3:13].values\n",
    "y = dataset.iloc[:, 13].values\n"
   ]
  },
  {
   "cell_type": "code",
   "execution_count": 118,
   "metadata": {},
   "outputs": [
    {
     "data": {
      "text/plain": [
       "<matplotlib.axes._subplots.AxesSubplot at 0x23597d44550>"
      ]
     },
     "execution_count": 118,
     "metadata": {},
     "output_type": "execute_result"
    },
    {
     "data": {
      "image/png": "[encoded data removed]",
      "text/plain": [
       "<Figure size 432x288 with 1 Axes>"
      ]
     },
     "metadata": {
      "needs_background": "light"
     },
     "output_type": "display_data"
    }
   ],
   "source": [
    "sns.scatterplot(x='NumOfProducts',y='EstimatedSalary',data=dataset,hue='Exited')"
   ]
  },
  {
   "cell_type": "code",
   "execution_count": 119,
   "metadata": {},
   "outputs": [],
   "source": [
    "from sklearn.preprocessing import LabelEncoder, OneHotEncoder\n",
    "labelencoder_X_1 = LabelEncoder()\n",
    "X[:, 1] = labelencoder_X_1.fit_transform(X[:, 1])"
   ]
  },
  {
   "cell_type": "code",
   "execution_count": 120,
   "metadata": {},
   "outputs": [],
   "source": [
    "labelencoder_X_2 = LabelEncoder()\n",
    "X[:, 2] = labelencoder_X_2.fit_transform(X[:, 2])"
   ]
  },
  {
   "cell_type": "code",
   "execution_count": 121,
   "metadata": {},
   "outputs": [
    {
     "name": "stderr",
     "output_type": "stream",
     "text": [
      "C:\\Users\\Johan\\Anaconda3\\lib\\site-packages\\sklearn\\preprocessing\\_encoders.py:371: FutureWarning: The handling of integer data will change in version 0.22. Currently, the categories are determined based on the range [0, max(values)], while in the future they will be determined based on the unique values.\n",
      "If you want the future behaviour and silence this warning, you can specify \"categories='auto'\".\n",
      "In case you used a LabelEncoder before this OneHotEncoder to convert the categories to integers, then you can now use the OneHotEncoder directly.\n",
      "  warnings.warn(msg, FutureWarning)\n",
      "C:\\Users\\Johan\\Anaconda3\\lib\\site-packages\\sklearn\\preprocessing\\_encoders.py:392: DeprecationWarning: The 'categorical_features' keyword is deprecated in version 0.20 and will be removed in 0.22. You can use the ColumnTransformer instead.\n",
      "  \"use the ColumnTransformer instead.\", DeprecationWarning)\n"
     ]
    }
   ],
   "source": [
    "onehotencoder = OneHotEncoder(categorical_features = [1])\n",
    "X = onehotencoder.fit_transform(X).toarray()"
   ]
  },
  {
   "cell_type": "code",
   "execution_count": 122,
   "metadata": {},
   "outputs": [],
   "source": [
    "X = X[:,1:]"
   ]
  },
  {
   "cell_type": "code",
   "execution_count": 123,
   "metadata": {},
   "outputs": [
    {
     "data": {
      "text/plain": [
       "array([[0.0000000e+00, 1.0000000e+00, 6.0800000e+02, ..., 0.0000000e+00,\n",
       "        1.0000000e+00, 1.1254258e+05],\n",
       "       [0.0000000e+00, 0.0000000e+00, 6.9900000e+02, ..., 0.0000000e+00,\n",
       "        0.0000000e+00, 9.3826630e+04],\n",
       "       [0.0000000e+00, 1.0000000e+00, 8.5000000e+02, ..., 1.0000000e+00,\n",
       "        1.0000000e+00, 7.9084100e+04],\n",
       "       ...,\n",
       "       [0.0000000e+00, 0.0000000e+00, 5.9700000e+02, ..., 1.0000000e+00,\n",
       "        0.0000000e+00, 6.9384710e+04],\n",
       "       [0.0000000e+00, 0.0000000e+00, 7.0900000e+02, ..., 0.0000000e+00,\n",
       "        1.0000000e+00, 4.2085580e+04],\n",
       "       [1.0000000e+00, 0.0000000e+00, 7.7200000e+02, ..., 1.0000000e+00,\n",
       "        0.0000000e+00, 9.2888520e+04]])"
      ]
     },
     "execution_count": 123,
     "metadata": {},
     "output_type": "execute_result"
    }
   ],
   "source": [
    "X"
   ]
  },
  {
   "cell_type": "code",
   "execution_count": 124,
   "metadata": {},
   "outputs": [],
   "source": [
    "from sklearn.model_selection import train_test_split\n",
    "X_train, X_test, y_train, y_test = train_test_split(X, y, test_size = 0.2, random_state = 123)\n"
   ]
  },
  {
   "cell_type": "code",
   "execution_count": 125,
   "metadata": {},
   "outputs": [],
   "source": [
    "# Feature Scaling\n",
    "from sklearn.preprocessing import StandardScaler\n",
    "sc = StandardScaler()\n",
    "X_train = sc.fit_transform(X_train)\n",
    "X_test = sc.transform(X_test)"
   ]
  },
  {
   "cell_type": "code",
   "execution_count": 126,
   "metadata": {},
   "outputs": [],
   "source": [
    "import keras\n"
   ]
  },
  {
   "cell_type": "code",
   "execution_count": 127,
   "metadata": {},
   "outputs": [],
   "source": [
    "from keras.models import Sequential\n",
    "from keras.layers import Dense"
   ]
  },
  {
   "cell_type": "code",
   "execution_count": 151,
   "metadata": {},
   "outputs": [],
   "source": [
    "classifier = Sequential()"
   ]
  },
  {
   "cell_type": "code",
   "execution_count": 152,
   "metadata": {},
   "outputs": [],
   "source": [
    "classifier.add(Dense(activation=\"relu\", input_dim=11, units=6, kernel_initializer=\"uniform\"))"
   ]
  },
  {
   "cell_type": "code",
   "execution_count": 153,
   "metadata": {},
   "outputs": [],
   "source": [
    "classifier.add(Dense(activation=\"relu\", units=200, kernel_initializer=\"uniform\"))"
   ]
  },
  {
   "cell_type": "code",
   "execution_count": 154,
   "metadata": {},
   "outputs": [],
   "source": [
    "classifier.add(Dense(activation=\"relu\", units=200, kernel_initializer=\"uniform\"))"
   ]
  },
  {
   "cell_type": "code",
   "execution_count": 155,
   "metadata": {},
   "outputs": [],
   "source": [
    "classifier.add(Dense(activation=\"relu\", units=200, kernel_initializer=\"uniform\"))"
   ]
  },
  {
   "cell_type": "code",
   "execution_count": 156,
   "metadata": {},
   "outputs": [],
   "source": [
    "classifier.add(Dense(activation=\"relu\", units=200, kernel_initializer=\"uniform\"))"
   ]
  },
  {
   "cell_type": "code",
   "execution_count": 157,
   "metadata": {},
   "outputs": [],
   "source": [
    "## use softmax activation if there are more than two classes\n"
   ]
  },
  {
   "cell_type": "code",
   "execution_count": 158,
   "metadata": {},
   "outputs": [],
   "source": [
    "classifier.add(Dense(activation=\"sigmoid\", units=1, kernel_initializer=\"uniform\"))"
   ]
  },
  {
   "cell_type": "code",
   "execution_count": 159,
   "metadata": {},
   "outputs": [],
   "source": [
    "## category cross entropy loss for more than two classes"
   ]
  },
  {
   "cell_type": "code",
   "execution_count": 160,
   "metadata": {},
   "outputs": [],
   "source": [
    "classifier.compile(optimizer='adam',loss='binary_crossentropy',metrics=['accuracy'])"
   ]
  },
  {
   "cell_type": "code",
   "execution_count": 161,
   "metadata": {},
   "outputs": [
    {
     "name": "stdout",
     "output_type": "stream",
     "text": [
      "Epoch 1/100\n",
      "3259/3259 [==============================] - 1s 400us/step - loss: 0.6226 - acc: 0.6392\n",
      "Epoch 2/100\n",
      "3259/3259 [==============================] - 1s 202us/step - loss: 0.5274 - acc: 0.7398\n",
      "Epoch 3/100\n",
      "3259/3259 [==============================] - 1s 202us/step - loss: 0.4864 - acc: 0.7591\n",
      "Epoch 4/100\n",
      "3259/3259 [==============================] - 1s 202us/step - loss: 0.4827 - acc: 0.7579\n",
      "Epoch 5/100\n",
      "3259/3259 [==============================] - 1s 201us/step - loss: 0.4761 - acc: 0.7561\n",
      "Epoch 6/100\n",
      "3259/3259 [==============================] - 1s 201us/step - loss: 0.4740 - acc: 0.7671\n",
      "Epoch 7/100\n",
      "3259/3259 [==============================] - 1s 200us/step - loss: 0.4687 - acc: 0.7674\n",
      "Epoch 8/100\n",
      "3259/3259 [==============================] - 1s 201us/step - loss: 0.4716 - acc: 0.7683\n",
      "Epoch 9/100\n",
      "3259/3259 [==============================] - 1s 199us/step - loss: 0.4651 - acc: 0.7693\n",
      "Epoch 10/100\n",
      "3259/3259 [==============================] - 1s 200us/step - loss: 0.4637 - acc: 0.7754\n",
      "Epoch 11/100\n",
      "3259/3259 [==============================] - 1s 203us/step - loss: 0.4616 - acc: 0.7711\n",
      "Epoch 12/100\n",
      "3259/3259 [==============================] - 1s 199us/step - loss: 0.4621 - acc: 0.7794\n",
      "Epoch 13/100\n",
      "3259/3259 [==============================] - 1s 200us/step - loss: 0.4606 - acc: 0.7680\n",
      "Epoch 14/100\n",
      "3259/3259 [==============================] - 1s 201us/step - loss: 0.4618 - acc: 0.7732\n",
      "Epoch 15/100\n",
      "3259/3259 [==============================] - 1s 200us/step - loss: 0.4601 - acc: 0.7757\n",
      "Epoch 16/100\n",
      "3259/3259 [==============================] - 1s 200us/step - loss: 0.4591 - acc: 0.7775\n",
      "Epoch 17/100\n",
      "3259/3259 [==============================] - 1s 201us/step - loss: 0.4575 - acc: 0.7736\n",
      "Epoch 18/100\n",
      "3259/3259 [==============================] - 1s 201us/step - loss: 0.4562 - acc: 0.7772\n",
      "Epoch 19/100\n",
      "3259/3259 [==============================] - 1s 205us/step - loss: 0.4577 - acc: 0.7714\n",
      "Epoch 20/100\n",
      "3259/3259 [==============================] - 1s 204us/step - loss: 0.4560 - acc: 0.7763\n",
      "Epoch 21/100\n",
      "3259/3259 [==============================] - 1s 201us/step - loss: 0.4567 - acc: 0.7766\n",
      "Epoch 22/100\n",
      "3259/3259 [==============================] - 1s 200us/step - loss: 0.4569 - acc: 0.7818\n",
      "Epoch 23/100\n",
      "3259/3259 [==============================] - 1s 199us/step - loss: 0.4564 - acc: 0.7754\n",
      "Epoch 24/100\n",
      "3259/3259 [==============================] - 1s 200us/step - loss: 0.4536 - acc: 0.7763\n",
      "Epoch 25/100\n",
      "3259/3259 [==============================] - 1s 205us/step - loss: 0.4532 - acc: 0.7821\n",
      "Epoch 26/100\n",
      "3259/3259 [==============================] - 1s 206us/step - loss: 0.4533 - acc: 0.7760\n",
      "Epoch 27/100\n",
      "3259/3259 [==============================] - 1s 205us/step - loss: 0.4528 - acc: 0.7828\n",
      "Epoch 28/100\n",
      "3259/3259 [==============================] - 1s 202us/step - loss: 0.4527 - acc: 0.7791\n",
      "Epoch 29/100\n",
      "3259/3259 [==============================] - 1s 201us/step - loss: 0.4533 - acc: 0.7818\n",
      "Epoch 30/100\n",
      "3259/3259 [==============================] - 1s 200us/step - loss: 0.4523 - acc: 0.7821\n",
      "Epoch 31/100\n",
      "3259/3259 [==============================] - 1s 200us/step - loss: 0.4540 - acc: 0.7794\n",
      "Epoch 32/100\n",
      "3259/3259 [==============================] - 1s 205us/step - loss: 0.4492 - acc: 0.7803\n",
      "Epoch 33/100\n",
      "3259/3259 [==============================] - 1s 202us/step - loss: 0.4497 - acc: 0.7806\n",
      "Epoch 34/100\n",
      "3259/3259 [==============================] - 1s 203us/step - loss: 0.4498 - acc: 0.7797\n",
      "Epoch 35/100\n",
      "3259/3259 [==============================] - 1s 204us/step - loss: 0.4459 - acc: 0.7797\n",
      "Epoch 36/100\n",
      "3259/3259 [==============================] - 1s 205us/step - loss: 0.4468 - acc: 0.7800\n",
      "Epoch 37/100\n",
      "3259/3259 [==============================] - 1s 205us/step - loss: 0.4480 - acc: 0.7803\n",
      "Epoch 38/100\n",
      "3259/3259 [==============================] - 1s 207us/step - loss: 0.4474 - acc: 0.7809\n",
      "Epoch 39/100\n",
      "3259/3259 [==============================] - 1s 203us/step - loss: 0.4469 - acc: 0.7806\n",
      "Epoch 40/100\n",
      "3259/3259 [==============================] - 1s 203us/step - loss: 0.4465 - acc: 0.7837\n",
      "Epoch 41/100\n",
      "3259/3259 [==============================] - 1s 210us/step - loss: 0.4492 - acc: 0.7840\n",
      "Epoch 42/100\n",
      "3259/3259 [==============================] - 1s 207us/step - loss: 0.4453 - acc: 0.7800\n",
      "Epoch 43/100\n",
      "3259/3259 [==============================] - 1s 203us/step - loss: 0.4489 - acc: 0.7812\n",
      "Epoch 44/100\n",
      "3259/3259 [==============================] - 1s 202us/step - loss: 0.4443 - acc: 0.7828\n",
      "Epoch 45/100\n",
      "3259/3259 [==============================] - 1s 201us/step - loss: 0.4432 - acc: 0.7831\n",
      "Epoch 46/100\n",
      "3259/3259 [==============================] - 1s 203us/step - loss: 0.4409 - acc: 0.7824\n",
      "Epoch 47/100\n",
      "3259/3259 [==============================] - 1s 202us/step - loss: 0.4414 - acc: 0.7840\n",
      "Epoch 48/100\n",
      "3259/3259 [==============================] - 1s 203us/step - loss: 0.4421 - acc: 0.7840\n",
      "Epoch 49/100\n",
      "3259/3259 [==============================] - 1s 208us/step - loss: 0.4393 - acc: 0.7877\n",
      "Epoch 50/100\n",
      "3259/3259 [==============================] - 1s 210us/step - loss: 0.4440 - acc: 0.7812\n",
      "Epoch 51/100\n",
      "3259/3259 [==============================] - 1s 204us/step - loss: 0.4397 - acc: 0.7871\n",
      "Epoch 52/100\n",
      "3259/3259 [==============================] - 1s 202us/step - loss: 0.4407 - acc: 0.7861\n",
      "Epoch 53/100\n",
      "3259/3259 [==============================] - 1s 205us/step - loss: 0.4387 - acc: 0.7837\n",
      "Epoch 54/100\n",
      "3259/3259 [==============================] - 1s 213us/step - loss: 0.4420 - acc: 0.7828\n",
      "Epoch 55/100\n",
      "3259/3259 [==============================] - 1s 207us/step - loss: 0.4373 - acc: 0.7883\n",
      "Epoch 56/100\n",
      "3259/3259 [==============================] - 1s 213us/step - loss: 0.4352 - acc: 0.7904\n",
      "Epoch 57/100\n",
      "3259/3259 [==============================] - 1s 208us/step - loss: 0.4373 - acc: 0.7907\n",
      "Epoch 58/100\n",
      "3259/3259 [==============================] - 1s 210us/step - loss: 0.4405 - acc: 0.7858\n",
      "Epoch 59/100\n",
      "3259/3259 [==============================] - 1s 210us/step - loss: 0.4346 - acc: 0.7929\n",
      "Epoch 60/100\n",
      "3259/3259 [==============================] - 1s 202us/step - loss: 0.4346 - acc: 0.7883\n",
      "Epoch 61/100\n",
      "3259/3259 [==============================] - 1s 201us/step - loss: 0.4367 - acc: 0.7901\n",
      "Epoch 62/100\n",
      "3259/3259 [==============================] - 1s 201us/step - loss: 0.4363 - acc: 0.7904\n",
      "Epoch 63/100\n",
      "3259/3259 [==============================] - 1s 203us/step - loss: 0.4337 - acc: 0.7871\n",
      "Epoch 64/100\n",
      "3259/3259 [==============================] - 1s 203us/step - loss: 0.4324 - acc: 0.7901\n",
      "Epoch 65/100\n",
      "3259/3259 [==============================] - 1s 203us/step - loss: 0.4341 - acc: 0.7910\n",
      "Epoch 66/100\n",
      "3259/3259 [==============================] - 1s 203us/step - loss: 0.4327 - acc: 0.7880\n",
      "Epoch 67/100\n",
      "3259/3259 [==============================] - 1s 203us/step - loss: 0.4340 - acc: 0.7917\n",
      "Epoch 68/100\n",
      "3259/3259 [==============================] - 1s 204us/step - loss: 0.4309 - acc: 0.7913\n",
      "Epoch 69/100\n",
      "3259/3259 [==============================] - 1s 206us/step - loss: 0.4331 - acc: 0.7901\n",
      "Epoch 70/100\n",
      "3259/3259 [==============================] - 1s 206us/step - loss: 0.4325 - acc: 0.7926\n",
      "Epoch 71/100\n",
      "3259/3259 [==============================] - 1s 205us/step - loss: 0.4314 - acc: 0.7889\n",
      "Epoch 72/100\n",
      "3259/3259 [==============================] - 1s 202us/step - loss: 0.4236 - acc: 0.7926\n",
      "Epoch 73/100\n",
      "3259/3259 [==============================] - 1s 214us/step - loss: 0.4344 - acc: 0.7889\n",
      "Epoch 74/100\n",
      "3259/3259 [==============================] - 1s 210us/step - loss: 0.4286 - acc: 0.7929\n",
      "Epoch 75/100\n",
      "3259/3259 [==============================] - 1s 209us/step - loss: 0.4289 - acc: 0.7923\n",
      "Epoch 76/100\n",
      "3259/3259 [==============================] - 1s 205us/step - loss: 0.4273 - acc: 0.7920\n",
      "Epoch 77/100\n",
      "3259/3259 [==============================] - 1s 203us/step - loss: 0.4313 - acc: 0.7938\n",
      "Epoch 78/100\n",
      "3259/3259 [==============================] - 1s 205us/step - loss: 0.4284 - acc: 0.7941\n",
      "Epoch 79/100\n",
      "3259/3259 [==============================] - 1s 203us/step - loss: 0.4269 - acc: 0.7966\n",
      "Epoch 80/100\n",
      "3259/3259 [==============================] - 1s 205us/step - loss: 0.4247 - acc: 0.7920\n",
      "Epoch 81/100\n",
      "3259/3259 [==============================] - 1s 205us/step - loss: 0.4246 - acc: 0.7950\n",
      "Epoch 82/100\n"
     ]
    },
    {
     "name": "stdout",
     "output_type": "stream",
     "text": [
      "3259/3259 [==============================] - 1s 203us/step - loss: 0.4253 - acc: 0.7969\n",
      "Epoch 83/100\n",
      "3259/3259 [==============================] - 1s 201us/step - loss: 0.4217 - acc: 0.7944\n",
      "Epoch 84/100\n",
      "3259/3259 [==============================] - 1s 200us/step - loss: 0.4230 - acc: 0.7969\n",
      "Epoch 85/100\n",
      "3259/3259 [==============================] - 1s 203us/step - loss: 0.4228 - acc: 0.7984\n",
      "Epoch 86/100\n",
      "3259/3259 [==============================] - 1s 204us/step - loss: 0.4232 - acc: 0.7972\n",
      "Epoch 87/100\n",
      "3259/3259 [==============================] - 1s 204us/step - loss: 0.4193 - acc: 0.7963\n",
      "Epoch 88/100\n",
      "3259/3259 [==============================] - 1s 205us/step - loss: 0.4195 - acc: 0.7941\n",
      "Epoch 89/100\n",
      "3259/3259 [==============================] - 1s 201us/step - loss: 0.4167 - acc: 0.7972\n",
      "Epoch 90/100\n",
      "3259/3259 [==============================] - 1s 202us/step - loss: 0.4174 - acc: 0.8036\n",
      "Epoch 91/100\n",
      "3259/3259 [==============================] - 1s 202us/step - loss: 0.4197 - acc: 0.8012\n",
      "Epoch 92/100\n",
      "3259/3259 [==============================] - 1s 200us/step - loss: 0.4167 - acc: 0.7953\n",
      "Epoch 93/100\n",
      "3259/3259 [==============================] - 1s 203us/step - loss: 0.4225 - acc: 0.7972\n",
      "Epoch 94/100\n",
      "3259/3259 [==============================] - 1s 202us/step - loss: 0.4137 - acc: 0.7999\n",
      "Epoch 95/100\n",
      "3259/3259 [==============================] - 1s 202us/step - loss: 0.4133 - acc: 0.7981\n",
      "Epoch 96/100\n",
      "3259/3259 [==============================] - 1s 204us/step - loss: 0.4151 - acc: 0.7993\n",
      "Epoch 97/100\n",
      "3259/3259 [==============================] - 1s 207us/step - loss: 0.4150 - acc: 0.8002\n",
      "Epoch 98/100\n",
      "3259/3259 [==============================] - 1s 212us/step - loss: 0.4143 - acc: 0.8021\n",
      "Epoch 99/100\n",
      "3259/3259 [==============================] - 1s 204us/step - loss: 0.4109 - acc: 0.8052\n",
      "Epoch 100/100\n",
      "3259/3259 [==============================] - 1s 204us/step - loss: 0.4115 - acc: 0.8006\n"
     ]
    },
    {
     "data": {
      "text/plain": [
       "<keras.callbacks.History at 0x2359ad06d68>"
      ]
     },
     "execution_count": 161,
     "metadata": {},
     "output_type": "execute_result"
    }
   ],
   "source": [
    "classifier.fit(x=X_train,y=y_train,batch_size=20,epochs=100)"
   ]
  },
  {
   "cell_type": "code",
   "execution_count": 162,
   "metadata": {},
   "outputs": [],
   "source": [
    "from keras.wrappers.scikit_learn import KerasClassifier"
   ]
  },
  {
   "cell_type": "code",
   "execution_count": 163,
   "metadata": {},
   "outputs": [],
   "source": [
    "from sklearn.model_selection import cross_val_score"
   ]
  },
  {
   "cell_type": "code",
   "execution_count": 164,
   "metadata": {},
   "outputs": [],
   "source": [
    "def build_classifier():\n",
    "    classifier = Sequential()\n",
    "    classifier.add(Dense(activation=\"relu\", input_dim=11, units=6, kernel_initializer=\"uniform\"))\n",
    "    classifier.add(Dense(activation=\"relu\", units=6, kernel_initializer=\"uniform\"))\n",
    "    classifier.add(Dense(activation=\"relu\", units=6, kernel_initializer=\"uniform\"))\n",
    "    classifier.add(Dense(activation=\"relu\", units=6, kernel_initializer=\"uniform\"))\n",
    "    classifier.add(Dense(activation=\"relu\", units=6, kernel_initializer=\"uniform\"))\n",
    "    classifier.add(Dense(activation=\"sigmoid\", units=1, kernel_initializer=\"uniform\"))\n",
    "    classifier.compile(optimizer='adam',loss='binary_crossentropy',metrics=['accuracy'])\n",
    "    \n",
    "    return classifier"
   ]
  },
  {
   "cell_type": "code",
   "execution_count": 165,
   "metadata": {},
   "outputs": [],
   "source": [
    "classifier = KerasClassifier(build_fn = build_classifier,batch_size=10,nb_epoch = 100)"
   ]
  },
  {
   "cell_type": "code",
   "execution_count": 166,
   "metadata": {},
   "outputs": [
    {
     "ename": "InternalError",
     "evalue": "CUDA runtime implicit initialization on GPU:0 failed. Status: out of memory",
     "output_type": "error",
     "traceback": [
      "\u001b[1;31m---------------------------------------------------------------------------\u001b[0m",
      "\u001b[1;31m_RemoteTraceback\u001b[0m                          Traceback (most recent call last)",
      "\u001b[1;31m_RemoteTraceback\u001b[0m: \n\"\"\"\nTraceback (most recent call last):\n  File \"C:\\Users\\Johan\\Anaconda3\\lib\\site-packages\\sklearn\\externals\\joblib\\externals\\loky\\process_executor.py\", line 418, in _process_worker\n    r = call_item()\n  File \"C:\\Users\\Johan\\Anaconda3\\lib\\site-packages\\sklearn\\externals\\joblib\\externals\\loky\\process_executor.py\", line 272, in __call__\n    return self.fn(*self.args, **self.kwargs)\n  File \"C:\\Users\\Johan\\Anaconda3\\lib\\site-packages\\sklearn\\externals\\joblib\\_parallel_backends.py\", line 567, in __call__\n    return self.func(*args, **kwargs)\n  File \"C:\\Users\\Johan\\Anaconda3\\lib\\site-packages\\sklearn\\externals\\joblib\\parallel.py\", line 225, in __call__\n    for func, args, kwargs in self.items]\n  File \"C:\\Users\\Johan\\Anaconda3\\lib\\site-packages\\sklearn\\externals\\joblib\\parallel.py\", line 225, in <listcomp>\n    for func, args, kwargs in self.items]\n  File \"C:\\Users\\Johan\\Anaconda3\\lib\\site-packages\\sklearn\\model_selection\\_validation.py\", line 528, in _fit_and_score\n    estimator.fit(X_train, y_train, **fit_params)\n  File \"C:\\Users\\Johan\\Anaconda3\\lib\\site-packages\\keras\\wrappers\\scikit_learn.py\", line 210, in fit\n    return super(KerasClassifier, self).fit(x, y, **kwargs)\n  File \"C:\\Users\\Johan\\Anaconda3\\lib\\site-packages\\keras\\wrappers\\scikit_learn.py\", line 152, in fit\n    history = self.model.fit(x, y, **fit_args)\n  File \"C:\\Users\\Johan\\Anaconda3\\lib\\site-packages\\keras\\engine\\training.py\", line 1039, in fit\n    validation_steps=validation_steps)\n  File \"C:\\Users\\Johan\\Anaconda3\\lib\\site-packages\\keras\\engine\\training_arrays.py\", line 199, in fit_loop\n    outs = f(ins_batch)\n  File \"C:\\Users\\Johan\\Anaconda3\\lib\\site-packages\\keras\\backend\\tensorflow_backend.py\", line 2697, in __call__\n    if hasattr(get_session(), '_make_callable_from_options'):\n  File \"C:\\Users\\Johan\\Anaconda3\\lib\\site-packages\\keras\\backend\\tensorflow_backend.py\", line 186, in get_session\n    _SESSION = tf.Session(config=config)\n  File \"C:\\Users\\Johan\\Anaconda3\\lib\\site-packages\\tensorflow\\python\\client\\session.py\", line 1551, in __init__\n    super(Session, self).__init__(target, graph, config=config)\n  File \"C:\\Users\\Johan\\Anaconda3\\lib\\site-packages\\tensorflow\\python\\client\\session.py\", line 676, in __init__\n    self._session = tf_session.TF_NewSessionRef(self._graph._c_graph, opts)\ntensorflow.python.framework.errors_impl.InternalError: CUDA runtime implicit initialization on GPU:0 failed. Status: out of memory\n\"\"\"",
      "\nThe above exception was the direct cause of the following exception:\n",
      "\u001b[1;31mInternalError\u001b[0m                             Traceback (most recent call last)",
      "\u001b[1;32m<ipython-input-166-8d2f662dadc1>\u001b[0m in \u001b[0;36m<module>\u001b[1;34m\u001b[0m\n\u001b[1;32m----> 1\u001b[1;33m \u001b[0maccuracies\u001b[0m \u001b[1;33m=\u001b[0m \u001b[0mcross_val_score\u001b[0m\u001b[1;33m(\u001b[0m\u001b[0mestimator\u001b[0m \u001b[1;33m=\u001b[0m \u001b[0mclassifier\u001b[0m\u001b[1;33m,\u001b[0m\u001b[0mX\u001b[0m \u001b[1;33m=\u001b[0m \u001b[0mX_train\u001b[0m\u001b[1;33m,\u001b[0m\u001b[0my\u001b[0m \u001b[1;33m=\u001b[0m \u001b[0my_train\u001b[0m\u001b[1;33m,\u001b[0m\u001b[0mcv\u001b[0m\u001b[1;33m=\u001b[0m\u001b[1;36m10\u001b[0m\u001b[1;33m,\u001b[0m\u001b[0mn_jobs\u001b[0m \u001b[1;33m=\u001b[0m \u001b[1;33m-\u001b[0m\u001b[1;36m1\u001b[0m\u001b[1;33m)\u001b[0m\u001b[1;33m\u001b[0m\u001b[1;33m\u001b[0m\u001b[0m\n\u001b[0m",
      "\u001b[1;32m~\\Anaconda3\\lib\\site-packages\\sklearn\\model_selection\\_validation.py\u001b[0m in \u001b[0;36mcross_val_score\u001b[1;34m(estimator, X, y, groups, scoring, cv, n_jobs, verbose, fit_params, pre_dispatch, error_score)\u001b[0m\n\u001b[0;32m    400\u001b[0m                                 \u001b[0mfit_params\u001b[0m\u001b[1;33m=\u001b[0m\u001b[0mfit_params\u001b[0m\u001b[1;33m,\u001b[0m\u001b[1;33m\u001b[0m\u001b[1;33m\u001b[0m\u001b[0m\n\u001b[0;32m    401\u001b[0m                                 \u001b[0mpre_dispatch\u001b[0m\u001b[1;33m=\u001b[0m\u001b[0mpre_dispatch\u001b[0m\u001b[1;33m,\u001b[0m\u001b[1;33m\u001b[0m\u001b[1;33m\u001b[0m\u001b[0m\n\u001b[1;32m--> 402\u001b[1;33m                                 error_score=error_score)\n\u001b[0m\u001b[0;32m    403\u001b[0m     \u001b[1;32mreturn\u001b[0m \u001b[0mcv_results\u001b[0m\u001b[1;33m[\u001b[0m\u001b[1;34m'test_score'\u001b[0m\u001b[1;33m]\u001b[0m\u001b[1;33m\u001b[0m\u001b[1;33m\u001b[0m\u001b[0m\n\u001b[0;32m    404\u001b[0m \u001b[1;33m\u001b[0m\u001b[0m\n",
      "\u001b[1;32m~\\Anaconda3\\lib\\site-packages\\sklearn\\model_selection\\_validation.py\u001b[0m in \u001b[0;36mcross_validate\u001b[1;34m(estimator, X, y, groups, scoring, cv, n_jobs, verbose, fit_params, pre_dispatch, return_train_score, return_estimator, error_score)\u001b[0m\n\u001b[0;32m    238\u001b[0m             \u001b[0mreturn_times\u001b[0m\u001b[1;33m=\u001b[0m\u001b[1;32mTrue\u001b[0m\u001b[1;33m,\u001b[0m \u001b[0mreturn_estimator\u001b[0m\u001b[1;33m=\u001b[0m\u001b[0mreturn_estimator\u001b[0m\u001b[1;33m,\u001b[0m\u001b[1;33m\u001b[0m\u001b[1;33m\u001b[0m\u001b[0m\n\u001b[0;32m    239\u001b[0m             error_score=error_score)\n\u001b[1;32m--> 240\u001b[1;33m         for train, test in cv.split(X, y, groups))\n\u001b[0m\u001b[0;32m    241\u001b[0m \u001b[1;33m\u001b[0m\u001b[0m\n\u001b[0;32m    242\u001b[0m     \u001b[0mzipped_scores\u001b[0m \u001b[1;33m=\u001b[0m \u001b[0mlist\u001b[0m\u001b[1;33m(\u001b[0m\u001b[0mzip\u001b[0m\u001b[1;33m(\u001b[0m\u001b[1;33m*\u001b[0m\u001b[0mscores\u001b[0m\u001b[1;33m)\u001b[0m\u001b[1;33m)\u001b[0m\u001b[1;33m\u001b[0m\u001b[1;33m\u001b[0m\u001b[0m\n",
      "\u001b[1;32m~\\Anaconda3\\lib\\site-packages\\sklearn\\externals\\joblib\\parallel.py\u001b[0m in \u001b[0;36m__call__\u001b[1;34m(self, iterable)\u001b[0m\n\u001b[0;32m    928\u001b[0m \u001b[1;33m\u001b[0m\u001b[0m\n\u001b[0;32m    929\u001b[0m             \u001b[1;32mwith\u001b[0m \u001b[0mself\u001b[0m\u001b[1;33m.\u001b[0m\u001b[0m_backend\u001b[0m\u001b[1;33m.\u001b[0m\u001b[0mretrieval_context\u001b[0m\u001b[1;33m(\u001b[0m\u001b[1;33m)\u001b[0m\u001b[1;33m:\u001b[0m\u001b[1;33m\u001b[0m\u001b[1;33m\u001b[0m\u001b[0m\n\u001b[1;32m--> 930\u001b[1;33m                 \u001b[0mself\u001b[0m\u001b[1;33m.\u001b[0m\u001b[0mretrieve\u001b[0m\u001b[1;33m(\u001b[0m\u001b[1;33m)\u001b[0m\u001b[1;33m\u001b[0m\u001b[1;33m\u001b[0m\u001b[0m\n\u001b[0m\u001b[0;32m    931\u001b[0m             \u001b[1;31m# Make sure that we get a last message telling us we are done\u001b[0m\u001b[1;33m\u001b[0m\u001b[1;33m\u001b[0m\u001b[1;33m\u001b[0m\u001b[0m\n\u001b[0;32m    932\u001b[0m             \u001b[0melapsed_time\u001b[0m \u001b[1;33m=\u001b[0m \u001b[0mtime\u001b[0m\u001b[1;33m.\u001b[0m\u001b[0mtime\u001b[0m\u001b[1;33m(\u001b[0m\u001b[1;33m)\u001b[0m \u001b[1;33m-\u001b[0m \u001b[0mself\u001b[0m\u001b[1;33m.\u001b[0m\u001b[0m_start_time\u001b[0m\u001b[1;33m\u001b[0m\u001b[1;33m\u001b[0m\u001b[0m\n",
      "\u001b[1;32m~\\Anaconda3\\lib\\site-packages\\sklearn\\externals\\joblib\\parallel.py\u001b[0m in \u001b[0;36mretrieve\u001b[1;34m(self)\u001b[0m\n\u001b[0;32m    831\u001b[0m             \u001b[1;32mtry\u001b[0m\u001b[1;33m:\u001b[0m\u001b[1;33m\u001b[0m\u001b[1;33m\u001b[0m\u001b[0m\n\u001b[0;32m    832\u001b[0m                 \u001b[1;32mif\u001b[0m \u001b[0mgetattr\u001b[0m\u001b[1;33m(\u001b[0m\u001b[0mself\u001b[0m\u001b[1;33m.\u001b[0m\u001b[0m_backend\u001b[0m\u001b[1;33m,\u001b[0m \u001b[1;34m'supports_timeout'\u001b[0m\u001b[1;33m,\u001b[0m \u001b[1;32mFalse\u001b[0m\u001b[1;33m)\u001b[0m\u001b[1;33m:\u001b[0m\u001b[1;33m\u001b[0m\u001b[1;33m\u001b[0m\u001b[0m\n\u001b[1;32m--> 833\u001b[1;33m                     \u001b[0mself\u001b[0m\u001b[1;33m.\u001b[0m\u001b[0m_output\u001b[0m\u001b[1;33m.\u001b[0m\u001b[0mextend\u001b[0m\u001b[1;33m(\u001b[0m\u001b[0mjob\u001b[0m\u001b[1;33m.\u001b[0m\u001b[0mget\u001b[0m\u001b[1;33m(\u001b[0m\u001b[0mtimeout\u001b[0m\u001b[1;33m=\u001b[0m\u001b[0mself\u001b[0m\u001b[1;33m.\u001b[0m\u001b[0mtimeout\u001b[0m\u001b[1;33m)\u001b[0m\u001b[1;33m)\u001b[0m\u001b[1;33m\u001b[0m\u001b[1;33m\u001b[0m\u001b[0m\n\u001b[0m\u001b[0;32m    834\u001b[0m                 \u001b[1;32melse\u001b[0m\u001b[1;33m:\u001b[0m\u001b[1;33m\u001b[0m\u001b[1;33m\u001b[0m\u001b[0m\n\u001b[0;32m    835\u001b[0m                     \u001b[0mself\u001b[0m\u001b[1;33m.\u001b[0m\u001b[0m_output\u001b[0m\u001b[1;33m.\u001b[0m\u001b[0mextend\u001b[0m\u001b[1;33m(\u001b[0m\u001b[0mjob\u001b[0m\u001b[1;33m.\u001b[0m\u001b[0mget\u001b[0m\u001b[1;33m(\u001b[0m\u001b[1;33m)\u001b[0m\u001b[1;33m)\u001b[0m\u001b[1;33m\u001b[0m\u001b[1;33m\u001b[0m\u001b[0m\n",
      "\u001b[1;32m~\\Anaconda3\\lib\\site-packages\\sklearn\\externals\\joblib\\_parallel_backends.py\u001b[0m in \u001b[0;36mwrap_future_result\u001b[1;34m(future, timeout)\u001b[0m\n\u001b[0;32m    519\u001b[0m         AsyncResults.get from multiprocessing.\"\"\"\n\u001b[0;32m    520\u001b[0m         \u001b[1;32mtry\u001b[0m\u001b[1;33m:\u001b[0m\u001b[1;33m\u001b[0m\u001b[1;33m\u001b[0m\u001b[0m\n\u001b[1;32m--> 521\u001b[1;33m             \u001b[1;32mreturn\u001b[0m \u001b[0mfuture\u001b[0m\u001b[1;33m.\u001b[0m\u001b[0mresult\u001b[0m\u001b[1;33m(\u001b[0m\u001b[0mtimeout\u001b[0m\u001b[1;33m=\u001b[0m\u001b[0mtimeout\u001b[0m\u001b[1;33m)\u001b[0m\u001b[1;33m\u001b[0m\u001b[1;33m\u001b[0m\u001b[0m\n\u001b[0m\u001b[0;32m    522\u001b[0m         \u001b[1;32mexcept\u001b[0m \u001b[0mLokyTimeoutError\u001b[0m\u001b[1;33m:\u001b[0m\u001b[1;33m\u001b[0m\u001b[1;33m\u001b[0m\u001b[0m\n\u001b[0;32m    523\u001b[0m             \u001b[1;32mraise\u001b[0m \u001b[0mTimeoutError\u001b[0m\u001b[1;33m(\u001b[0m\u001b[1;33m)\u001b[0m\u001b[1;33m\u001b[0m\u001b[1;33m\u001b[0m\u001b[0m\n",
      "\u001b[1;32m~\\Anaconda3\\lib\\concurrent\\futures\\_base.py\u001b[0m in \u001b[0;36mresult\u001b[1;34m(self, timeout)\u001b[0m\n\u001b[0;32m    430\u001b[0m                 \u001b[1;32mraise\u001b[0m \u001b[0mCancelledError\u001b[0m\u001b[1;33m(\u001b[0m\u001b[1;33m)\u001b[0m\u001b[1;33m\u001b[0m\u001b[1;33m\u001b[0m\u001b[0m\n\u001b[0;32m    431\u001b[0m             \u001b[1;32melif\u001b[0m \u001b[0mself\u001b[0m\u001b[1;33m.\u001b[0m\u001b[0m_state\u001b[0m \u001b[1;33m==\u001b[0m \u001b[0mFINISHED\u001b[0m\u001b[1;33m:\u001b[0m\u001b[1;33m\u001b[0m\u001b[1;33m\u001b[0m\u001b[0m\n\u001b[1;32m--> 432\u001b[1;33m                 \u001b[1;32mreturn\u001b[0m \u001b[0mself\u001b[0m\u001b[1;33m.\u001b[0m\u001b[0m__get_result\u001b[0m\u001b[1;33m(\u001b[0m\u001b[1;33m)\u001b[0m\u001b[1;33m\u001b[0m\u001b[1;33m\u001b[0m\u001b[0m\n\u001b[0m\u001b[0;32m    433\u001b[0m             \u001b[1;32melse\u001b[0m\u001b[1;33m:\u001b[0m\u001b[1;33m\u001b[0m\u001b[1;33m\u001b[0m\u001b[0m\n\u001b[0;32m    434\u001b[0m                 \u001b[1;32mraise\u001b[0m \u001b[0mTimeoutError\u001b[0m\u001b[1;33m(\u001b[0m\u001b[1;33m)\u001b[0m\u001b[1;33m\u001b[0m\u001b[1;33m\u001b[0m\u001b[0m\n",
      "\u001b[1;32m~\\Anaconda3\\lib\\concurrent\\futures\\_base.py\u001b[0m in \u001b[0;36m__get_result\u001b[1;34m(self)\u001b[0m\n\u001b[0;32m    382\u001b[0m     \u001b[1;32mdef\u001b[0m \u001b[0m__get_result\u001b[0m\u001b[1;33m(\u001b[0m\u001b[0mself\u001b[0m\u001b[1;33m)\u001b[0m\u001b[1;33m:\u001b[0m\u001b[1;33m\u001b[0m\u001b[1;33m\u001b[0m\u001b[0m\n\u001b[0;32m    383\u001b[0m         \u001b[1;32mif\u001b[0m \u001b[0mself\u001b[0m\u001b[1;33m.\u001b[0m\u001b[0m_exception\u001b[0m\u001b[1;33m:\u001b[0m\u001b[1;33m\u001b[0m\u001b[1;33m\u001b[0m\u001b[0m\n\u001b[1;32m--> 384\u001b[1;33m             \u001b[1;32mraise\u001b[0m \u001b[0mself\u001b[0m\u001b[1;33m.\u001b[0m\u001b[0m_exception\u001b[0m\u001b[1;33m\u001b[0m\u001b[1;33m\u001b[0m\u001b[0m\n\u001b[0m\u001b[0;32m    385\u001b[0m         \u001b[1;32melse\u001b[0m\u001b[1;33m:\u001b[0m\u001b[1;33m\u001b[0m\u001b[1;33m\u001b[0m\u001b[0m\n\u001b[0;32m    386\u001b[0m             \u001b[1;32mreturn\u001b[0m \u001b[0mself\u001b[0m\u001b[1;33m.\u001b[0m\u001b[0m_result\u001b[0m\u001b[1;33m\u001b[0m\u001b[1;33m\u001b[0m\u001b[0m\n",
      "\u001b[1;31mInternalError\u001b[0m: CUDA runtime implicit initialization on GPU:0 failed. Status: out of memory"
     ]
    }
   ],
   "source": [
    "accuracies = cross_val_score(estimator = classifier,X = X_train,y = y_train,cv=10,n_jobs = -1)"
   ]
  },
  {
   "cell_type": "code",
   "execution_count": null,
   "metadata": {},
   "outputs": [],
   "source": []
  }
 ],
 "metadata": {
  "kernelspec": {
   "display_name": "Python 3",
   "language": "python",
   "name": "python3"
  },
  "language_info": {
   "codemirror_mode": {
    "name": "ipython",
    "version": 3
   },
   "file_extension": ".py",
   "mimetype": "text/x-python",
   "name": "python",
   "nbconvert_exporter": "python",
   "pygments_lexer": "ipython3",
   "version": "3.6.8"
  }
 },
 "nbformat": 4,
 "nbformat_minor": 2
}
